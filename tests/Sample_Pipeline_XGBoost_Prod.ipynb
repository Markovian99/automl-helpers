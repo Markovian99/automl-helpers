{
 "cells": [
  {
   "cell_type": "markdown",
   "metadata": {},
   "source": [
    "## AutoML Prediction Process\n",
    "###  1) Read data\n",
    "###  2) Load Model\n",
    "###  3) Run predictions"
   ]
  },
  {
   "cell_type": "code",
   "execution_count": 1,
   "metadata": {},
   "outputs": [
    {
     "name": "stderr",
     "output_type": "stream",
     "text": [
      "/tmp/ipykernel_397442/2637344952.py:5: DeprecationWarning: \n",
      "Pyarrow will become a required dependency of pandas in the next major release of pandas (pandas 3.0),\n",
      "(to allow more performant data types, such as the Arrow string type, and better interoperability with other libraries)\n",
      "but was not found to be installed on your system.\n",
      "If this would cause problems for you,\n",
      "please provide us feedback at https://github.com/pandas-dev/pandas/issues/54466\n",
      "        \n",
      "  import pandas as pd\n"
     ]
    }
   ],
   "source": [
    "from copy import copy\n",
    "\n",
    "import numpy as np\n",
    "from numpy import inf\n",
    "import pandas as pd\n",
    "from datetime import datetime\n",
    "import functools\n",
    "import matplotlib.pyplot as plt  \n",
    "\n",
    "from sklearn.pipeline import Pipeline\n",
    "from sklearn.compose import ColumnTransformer\n",
    "from sklearn import svm \n",
    "from sklearn.ensemble import RandomForestClassifier, GradientBoostingClassifier  #RF and GBM algorithm\n",
    "from sklearn.linear_model import ElasticNet, SGDClassifier\n",
    "from sklearn.model_selection import GridSearchCV   #Perforing grid search\n",
    "from sklearn import preprocessing, neighbors, metrics\n",
    "import sklearn\n",
    "if sklearn.__version__<'0.20':\n",
    "    from sklearn.cross_validation import train_test_split, KFold, StratifiedKFold, PredefinedSplit\n",
    "else:\n",
    "    from sklearn.model_selection import train_test_split, KFold, StratifiedKFold, PredefinedSplit\n",
    "\n",
    "import scipy.stats as st\n",
    "from sklearn.metrics import mean_absolute_error, accuracy_score, log_loss, make_scorer, auc, roc_auc_score\n",
    "\n",
    "import joblib\n",
    "import yaml\n",
    "\n",
    "import xgboost as xgb\n",
    "\n",
    "%matplotlib inline"
   ]
  },
  {
   "cell_type": "code",
   "execution_count": 2,
   "metadata": {},
   "outputs": [],
   "source": [
    "import automl\n",
    "from automl import StackLayer, TextElasticNetBinary, MissingDataHandler"
   ]
  },
  {
   "cell_type": "code",
   "execution_count": 3,
   "metadata": {},
   "outputs": [],
   "source": [
    "# import importlib\n",
    "# importlib.reload(automl)"
   ]
  },
  {
   "cell_type": "code",
   "execution_count": 4,
   "metadata": {},
   "outputs": [
    {
     "data": {
      "text/html": [
       "<div>\n",
       "<style scoped>\n",
       "    .dataframe tbody tr th:only-of-type {\n",
       "        vertical-align: middle;\n",
       "    }\n",
       "\n",
       "    .dataframe tbody tr th {\n",
       "        vertical-align: top;\n",
       "    }\n",
       "\n",
       "    .dataframe thead th {\n",
       "        text-align: right;\n",
       "    }\n",
       "</style>\n",
       "<table border=\"1\" class=\"dataframe\">\n",
       "  <thead>\n",
       "    <tr style=\"text-align: right;\">\n",
       "      <th></th>\n",
       "      <th>rowID</th>\n",
       "      <th>race</th>\n",
       "      <th>gender</th>\n",
       "      <th>age</th>\n",
       "      <th>weight</th>\n",
       "      <th>admission_type_id</th>\n",
       "      <th>discharge_disposition_id</th>\n",
       "      <th>admission_source_id</th>\n",
       "      <th>time_in_hospital</th>\n",
       "      <th>payer_code</th>\n",
       "      <th>...</th>\n",
       "      <th>glipizide.metformin</th>\n",
       "      <th>glimepiride.pioglitazone</th>\n",
       "      <th>metformin.rosiglitazone</th>\n",
       "      <th>metformin.pioglitazone</th>\n",
       "      <th>change</th>\n",
       "      <th>diabetesMed</th>\n",
       "      <th>readmitted</th>\n",
       "      <th>diag_1_desc</th>\n",
       "      <th>diag_2_desc</th>\n",
       "      <th>diag_3_desc</th>\n",
       "    </tr>\n",
       "  </thead>\n",
       "  <tbody>\n",
       "    <tr>\n",
       "      <th>2833</th>\n",
       "      <td>2834</td>\n",
       "      <td>AfricanAmerican</td>\n",
       "      <td>Female</td>\n",
       "      <td>[60-70)</td>\n",
       "      <td>?</td>\n",
       "      <td>Elective</td>\n",
       "      <td>Discharged to home</td>\n",
       "      <td>Physician Referral</td>\n",
       "      <td>1</td>\n",
       "      <td>MC</td>\n",
       "      <td>...</td>\n",
       "      <td>No</td>\n",
       "      <td>No</td>\n",
       "      <td>No</td>\n",
       "      <td>No</td>\n",
       "      <td>No</td>\n",
       "      <td>No</td>\n",
       "      <td>False</td>\n",
       "      <td>Coronary atherosclerosis of unspecified type o...</td>\n",
       "      <td>Angina decubitus</td>\n",
       "      <td>Respiratory abnormality, unspecified</td>\n",
       "    </tr>\n",
       "    <tr>\n",
       "      <th>3085</th>\n",
       "      <td>3086</td>\n",
       "      <td>Caucasian</td>\n",
       "      <td>Male</td>\n",
       "      <td>[60-70)</td>\n",
       "      <td>?</td>\n",
       "      <td>Urgent</td>\n",
       "      <td>Discharged to home</td>\n",
       "      <td>Physician Referral</td>\n",
       "      <td>2</td>\n",
       "      <td>MC</td>\n",
       "      <td>...</td>\n",
       "      <td>No</td>\n",
       "      <td>No</td>\n",
       "      <td>No</td>\n",
       "      <td>No</td>\n",
       "      <td>No</td>\n",
       "      <td>No</td>\n",
       "      <td>False</td>\n",
       "      <td>Paroxysmal supraventricular tachycardia</td>\n",
       "      <td>Coronary atherosclerosis of unspecified type o...</td>\n",
       "      <td>Malignant essential hypertension</td>\n",
       "    </tr>\n",
       "    <tr>\n",
       "      <th>1405</th>\n",
       "      <td>1406</td>\n",
       "      <td>Caucasian</td>\n",
       "      <td>Male</td>\n",
       "      <td>[40-50)</td>\n",
       "      <td>?</td>\n",
       "      <td>Not Available</td>\n",
       "      <td>Discharged/transferred to home with home healt...</td>\n",
       "      <td>NaN</td>\n",
       "      <td>11</td>\n",
       "      <td>?</td>\n",
       "      <td>...</td>\n",
       "      <td>No</td>\n",
       "      <td>No</td>\n",
       "      <td>No</td>\n",
       "      <td>No</td>\n",
       "      <td>Ch</td>\n",
       "      <td>Yes</td>\n",
       "      <td>False</td>\n",
       "      <td>Cellulitis and abscess of face</td>\n",
       "      <td>Femoral hernia with obstruction, unilateral or...</td>\n",
       "      <td>Postoperative shock, unspecified</td>\n",
       "    </tr>\n",
       "    <tr>\n",
       "      <th>4632</th>\n",
       "      <td>4633</td>\n",
       "      <td>Caucasian</td>\n",
       "      <td>Male</td>\n",
       "      <td>[10-20)</td>\n",
       "      <td>?</td>\n",
       "      <td>Emergency</td>\n",
       "      <td>Discharged to home</td>\n",
       "      <td>Emergency Room</td>\n",
       "      <td>3</td>\n",
       "      <td>?</td>\n",
       "      <td>...</td>\n",
       "      <td>No</td>\n",
       "      <td>No</td>\n",
       "      <td>No</td>\n",
       "      <td>No</td>\n",
       "      <td>Ch</td>\n",
       "      <td>Yes</td>\n",
       "      <td>False</td>\n",
       "      <td>Diabetes with ketoacidosis, type I [juvenile t...</td>\n",
       "      <td>Hyperosmolality and/or hypernatremia</td>\n",
       "      <td>Hyperosmolality and/or hypernatremia</td>\n",
       "    </tr>\n",
       "    <tr>\n",
       "      <th>1583</th>\n",
       "      <td>1584</td>\n",
       "      <td>Caucasian</td>\n",
       "      <td>Female</td>\n",
       "      <td>[70-80)</td>\n",
       "      <td>?</td>\n",
       "      <td>Emergency</td>\n",
       "      <td>Discharged to home</td>\n",
       "      <td>Transfer from another health care facility</td>\n",
       "      <td>2</td>\n",
       "      <td>UN</td>\n",
       "      <td>...</td>\n",
       "      <td>No</td>\n",
       "      <td>No</td>\n",
       "      <td>No</td>\n",
       "      <td>No</td>\n",
       "      <td>No</td>\n",
       "      <td>Yes</td>\n",
       "      <td>False</td>\n",
       "      <td>Diabetes with other specified manifestations, ...</td>\n",
       "      <td>Pressure ulcer, unspecified site</td>\n",
       "      <td>Paroxysmal supraventricular tachycardia</td>\n",
       "    </tr>\n",
       "  </tbody>\n",
       "</table>\n",
       "<p>5 rows × 52 columns</p>\n",
       "</div>"
      ],
      "text/plain": [
       "      rowID             race  gender      age weight admission_type_id  \\\n",
       "2833   2834  AfricanAmerican  Female  [60-70)      ?          Elective   \n",
       "3085   3086        Caucasian    Male  [60-70)      ?            Urgent   \n",
       "1405   1406        Caucasian    Male  [40-50)      ?     Not Available   \n",
       "4632   4633        Caucasian    Male  [10-20)      ?         Emergency   \n",
       "1583   1584        Caucasian  Female  [70-80)      ?         Emergency   \n",
       "\n",
       "                               discharge_disposition_id  \\\n",
       "2833                                 Discharged to home   \n",
       "3085                                 Discharged to home   \n",
       "1405  Discharged/transferred to home with home healt...   \n",
       "4632                                 Discharged to home   \n",
       "1583                                 Discharged to home   \n",
       "\n",
       "                             admission_source_id  time_in_hospital payer_code  \\\n",
       "2833                          Physician Referral                 1         MC   \n",
       "3085                          Physician Referral                 2         MC   \n",
       "1405                                         NaN                11          ?   \n",
       "4632                              Emergency Room                 3          ?   \n",
       "1583  Transfer from another health care facility                 2         UN   \n",
       "\n",
       "      ... glipizide.metformin  glimepiride.pioglitazone  \\\n",
       "2833  ...                  No                        No   \n",
       "3085  ...                  No                        No   \n",
       "1405  ...                  No                        No   \n",
       "4632  ...                  No                        No   \n",
       "1583  ...                  No                        No   \n",
       "\n",
       "      metformin.rosiglitazone  metformin.pioglitazone  change  diabetesMed  \\\n",
       "2833                       No                      No      No           No   \n",
       "3085                       No                      No      No           No   \n",
       "1405                       No                      No      Ch          Yes   \n",
       "4632                       No                      No      Ch          Yes   \n",
       "1583                       No                      No      No          Yes   \n",
       "\n",
       "      readmitted                                        diag_1_desc  \\\n",
       "2833       False  Coronary atherosclerosis of unspecified type o...   \n",
       "3085       False            Paroxysmal supraventricular tachycardia   \n",
       "1405       False                     Cellulitis and abscess of face   \n",
       "4632       False  Diabetes with ketoacidosis, type I [juvenile t...   \n",
       "1583       False  Diabetes with other specified manifestations, ...   \n",
       "\n",
       "                                            diag_2_desc  \\\n",
       "2833                                   Angina decubitus   \n",
       "3085  Coronary atherosclerosis of unspecified type o...   \n",
       "1405  Femoral hernia with obstruction, unilateral or...   \n",
       "4632               Hyperosmolality and/or hypernatremia   \n",
       "1583                   Pressure ulcer, unspecified site   \n",
       "\n",
       "                                  diag_3_desc  \n",
       "2833     Respiratory abnormality, unspecified  \n",
       "3085         Malignant essential hypertension  \n",
       "1405         Postoperative shock, unspecified  \n",
       "4632     Hyperosmolality and/or hypernatremia  \n",
       "1583  Paroxysmal supraventricular tachycardia  \n",
       "\n",
       "[5 rows x 52 columns]"
      ]
     },
     "execution_count": 4,
     "metadata": {},
     "output_type": "execute_result"
    }
   ],
   "source": [
    "#https://www.hindawi.com/journals/bmri/2014/781670/\n",
    "input_data=pd.read_csv(\"diabetes_data.csv\")\n",
    "input_data.sample(5)"
   ]
  },
  {
   "cell_type": "code",
   "execution_count": 5,
   "metadata": {},
   "outputs": [
    {
     "name": "stdout",
     "output_type": "stream",
     "text": [
      "[{'feature_list': ['number_inpatient', 'number_diagnoses', 'num_lab_procedures', 'num_medications', 'time_in_hospital', 'num_procedures', 'number_outpatient', 'number_emergency', 'medical_specialty', 'admission_source_id', 'diag_3_desc', 'diag_1_desc', 'admission_type_id', 'diag_2_desc', 'age', 'discharge_disposition_id']}, {'model_file': 'pipeline_xgb.pkl'}]\n"
     ]
    }
   ],
   "source": [
    "target='readmitted'\n",
    "\n",
    "with open(r'model_file.yaml') as file:\n",
    "    documents = yaml.full_load(file)\n",
    "    print(documents)\n",
    "feature_list=list(documents[0].values())[0]\n",
    "model_file=list(documents[1].values())[0]"
   ]
  },
  {
   "cell_type": "code",
   "execution_count": 6,
   "metadata": {},
   "outputs": [
    {
     "data": {
      "text/plain": [
       "'pipeline_xgb.pkl'"
      ]
     },
     "execution_count": 6,
     "metadata": {},
     "output_type": "execute_result"
    }
   ],
   "source": [
    "model_file"
   ]
  },
  {
   "cell_type": "code",
   "execution_count": 7,
   "metadata": {},
   "outputs": [],
   "source": [
    "X=input_data[feature_list]\n",
    "y=input_data[target].astype(int)"
   ]
  },
  {
   "cell_type": "code",
   "execution_count": 8,
   "metadata": {},
   "outputs": [],
   "source": [
    "X_train, X_test, y_train, y_test = train_test_split(X, y, test_size=0.2, random_state=1234)"
   ]
  },
  {
   "cell_type": "markdown",
   "metadata": {},
   "source": [
    "# Run predictions"
   ]
  },
  {
   "cell_type": "code",
   "execution_count": 9,
   "metadata": {},
   "outputs": [],
   "source": [
    "pipe_full = joblib.load(model_file)"
   ]
  },
  {
   "cell_type": "code",
   "execution_count": 10,
   "metadata": {},
   "outputs": [
    {
     "data": {
      "text/plain": [
       "0.7022059912572838"
      ]
     },
     "execution_count": 10,
     "metadata": {},
     "output_type": "execute_result"
    }
   ],
   "source": [
    "test_pred2=pipe_full.predict_proba(X_test)\n",
    "roc_auc_score(y_test,test_pred2[:,1])"
   ]
  }
 ],
 "metadata": {
  "kernelspec": {
   "display_name": "venv",
   "language": "python",
   "name": "python3"
  },
  "language_info": {
   "codemirror_mode": {
    "name": "ipython",
    "version": 3
   },
   "file_extension": ".py",
   "mimetype": "text/x-python",
   "name": "python",
   "nbconvert_exporter": "python",
   "pygments_lexer": "ipython3",
   "version": "3.10.12"
  }
 },
 "nbformat": 4,
 "nbformat_minor": 4
}
