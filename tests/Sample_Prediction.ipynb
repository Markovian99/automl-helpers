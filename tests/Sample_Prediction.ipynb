{
 "cells": [
  {
   "cell_type": "markdown",
   "metadata": {},
   "source": [
    "## AutoML Process\n",
    "###  1) Import Libraries and Read data\n",
    "###  2) Define target and determine numeric, categorical, and text\n",
    "###  3) Define partitioning method and CV method\n",
    "###  4) Run Competition\n",
    "###  5) Save best model as .pkl file\n",
    "\n",
    "\n",
    "## Let's begin!"
   ]
  },
  {
   "cell_type": "markdown",
   "metadata": {},
   "source": [
    "###  1) Import Libraries and Read data"
   ]
  },
  {
   "cell_type": "code",
   "execution_count": 8,
   "metadata": {},
   "outputs": [],
   "source": [
    "from copy import copy\n",
    "import joblib\n",
    "\n",
    "import numpy as np\n",
    "from numpy import inf\n",
    "import pandas as pd\n",
    "from datetime import datetime\n",
    "import functools\n",
    "import matplotlib.pyplot as plt  \n",
    "\n",
    "from sklearn.pipeline import Pipeline\n",
    "from sklearn.compose import ColumnTransformer\n",
    "from sklearn import svm \n",
    "from sklearn.ensemble import RandomForestClassifier, GradientBoostingClassifier  #RF and GBM algorithm\n",
    "from sklearn.linear_model import ElasticNet, SGDClassifier\n",
    "from sklearn.model_selection import GridSearchCV   #Perforing grid search\n",
    "from sklearn import preprocessing, neighbors, metrics\n",
    "import sklearn\n",
    "if sklearn.__version__<'0.20':\n",
    "    from sklearn.cross_validation import train_test_split, KFold, StratifiedKFold, PredefinedSplit\n",
    "else:\n",
    "    from sklearn.model_selection import train_test_split, KFold, StratifiedKFold, PredefinedSplit\n",
    "\n",
    "import scipy.stats as st\n",
    "from sklearn.metrics import mean_absolute_error, accuracy_score, log_loss, make_scorer, auc, roc_auc_score\n",
    "\n",
    "\n",
    "%matplotlib inline"
   ]
  },
  {
   "cell_type": "code",
   "execution_count": 9,
   "metadata": {},
   "outputs": [],
   "source": [
    "import automl\n",
    "from automl import automl_utils\n",
    "from automl import StackLayer, TextElasticNetBinary, MissingDataHandler"
   ]
  },
  {
   "cell_type": "code",
   "execution_count": 10,
   "metadata": {},
   "outputs": [],
   "source": [
    "# from pipelines import gbm_classifier_pipeline, rf_classifier_pipeline, all_tree_classifier_pipeline"
   ]
  },
  {
   "cell_type": "code",
   "execution_count": 11,
   "metadata": {},
   "outputs": [],
   "source": [
    "# import importlib\n",
    "# importlib.reload(automl)"
   ]
  },
  {
   "cell_type": "code",
   "execution_count": 12,
   "metadata": {},
   "outputs": [
    {
     "data": {
      "text/html": [
       "<div>\n",
       "<style scoped>\n",
       "    .dataframe tbody tr th:only-of-type {\n",
       "        vertical-align: middle;\n",
       "    }\n",
       "\n",
       "    .dataframe tbody tr th {\n",
       "        vertical-align: top;\n",
       "    }\n",
       "\n",
       "    .dataframe thead th {\n",
       "        text-align: right;\n",
       "    }\n",
       "</style>\n",
       "<table border=\"1\" class=\"dataframe\">\n",
       "  <thead>\n",
       "    <tr style=\"text-align: right;\">\n",
       "      <th></th>\n",
       "      <th>rowID</th>\n",
       "      <th>race</th>\n",
       "      <th>gender</th>\n",
       "      <th>age</th>\n",
       "      <th>weight</th>\n",
       "      <th>admission_type_id</th>\n",
       "      <th>discharge_disposition_id</th>\n",
       "      <th>admission_source_id</th>\n",
       "      <th>time_in_hospital</th>\n",
       "      <th>payer_code</th>\n",
       "      <th>...</th>\n",
       "      <th>glipizide.metformin</th>\n",
       "      <th>glimepiride.pioglitazone</th>\n",
       "      <th>metformin.rosiglitazone</th>\n",
       "      <th>metformin.pioglitazone</th>\n",
       "      <th>change</th>\n",
       "      <th>diabetesMed</th>\n",
       "      <th>readmitted</th>\n",
       "      <th>diag_1_desc</th>\n",
       "      <th>diag_2_desc</th>\n",
       "      <th>diag_3_desc</th>\n",
       "    </tr>\n",
       "  </thead>\n",
       "  <tbody>\n",
       "    <tr>\n",
       "      <th>1338</th>\n",
       "      <td>1339</td>\n",
       "      <td>Caucasian</td>\n",
       "      <td>Female</td>\n",
       "      <td>[40-50)</td>\n",
       "      <td>?</td>\n",
       "      <td>Elective</td>\n",
       "      <td>NaN</td>\n",
       "      <td>Transfer from a hospital</td>\n",
       "      <td>10</td>\n",
       "      <td>?</td>\n",
       "      <td>...</td>\n",
       "      <td>No</td>\n",
       "      <td>No</td>\n",
       "      <td>No</td>\n",
       "      <td>No</td>\n",
       "      <td>Ch</td>\n",
       "      <td>Yes</td>\n",
       "      <td>False</td>\n",
       "      <td>Coronary atherosclerosis of unspecified type o...</td>\n",
       "      <td>Postmyocardial infarction syndrome</td>\n",
       "      <td>Pure hypercholesterolemia</td>\n",
       "    </tr>\n",
       "    <tr>\n",
       "      <th>9848</th>\n",
       "      <td>9849</td>\n",
       "      <td>Caucasian</td>\n",
       "      <td>Female</td>\n",
       "      <td>[60-70)</td>\n",
       "      <td>?</td>\n",
       "      <td>Emergency</td>\n",
       "      <td>Discharged to home</td>\n",
       "      <td>Emergency Room</td>\n",
       "      <td>2</td>\n",
       "      <td>CM</td>\n",
       "      <td>...</td>\n",
       "      <td>No</td>\n",
       "      <td>No</td>\n",
       "      <td>No</td>\n",
       "      <td>No</td>\n",
       "      <td>No</td>\n",
       "      <td>Yes</td>\n",
       "      <td>False</td>\n",
       "      <td>Malignant hypertensive heart disease without h...</td>\n",
       "      <td>Hyperosmolality and/or hypernatremia</td>\n",
       "      <td>Obesity, unspecified</td>\n",
       "    </tr>\n",
       "    <tr>\n",
       "      <th>2151</th>\n",
       "      <td>2152</td>\n",
       "      <td>Caucasian</td>\n",
       "      <td>Female</td>\n",
       "      <td>[50-60)</td>\n",
       "      <td>?</td>\n",
       "      <td>Urgent</td>\n",
       "      <td>Discharged to home</td>\n",
       "      <td>Transfer from a hospital</td>\n",
       "      <td>3</td>\n",
       "      <td>?</td>\n",
       "      <td>...</td>\n",
       "      <td>No</td>\n",
       "      <td>No</td>\n",
       "      <td>No</td>\n",
       "      <td>No</td>\n",
       "      <td>No</td>\n",
       "      <td>No</td>\n",
       "      <td>False</td>\n",
       "      <td>Respiratory abnormality, unspecified</td>\n",
       "      <td>Achalasia and cardiospasm</td>\n",
       "      <td>Femoral hernia without mention of obstruction ...</td>\n",
       "    </tr>\n",
       "    <tr>\n",
       "      <th>298</th>\n",
       "      <td>299</td>\n",
       "      <td>Caucasian</td>\n",
       "      <td>Female</td>\n",
       "      <td>[80-90)</td>\n",
       "      <td>?</td>\n",
       "      <td>Emergency</td>\n",
       "      <td>Discharged/transferred to ICF</td>\n",
       "      <td>Transfer from another health care facility</td>\n",
       "      <td>2</td>\n",
       "      <td>HM</td>\n",
       "      <td>...</td>\n",
       "      <td>No</td>\n",
       "      <td>No</td>\n",
       "      <td>No</td>\n",
       "      <td>No</td>\n",
       "      <td>Ch</td>\n",
       "      <td>Yes</td>\n",
       "      <td>False</td>\n",
       "      <td>Amnestic disorder in conditions classified els...</td>\n",
       "      <td>Diabetes mellitus without mention of complicat...</td>\n",
       "      <td>Malignant essential hypertension</td>\n",
       "    </tr>\n",
       "    <tr>\n",
       "      <th>181</th>\n",
       "      <td>182</td>\n",
       "      <td>Caucasian</td>\n",
       "      <td>Male</td>\n",
       "      <td>[30-40)</td>\n",
       "      <td>?</td>\n",
       "      <td>Emergency</td>\n",
       "      <td>Discharged/transferred to another short term h...</td>\n",
       "      <td>Emergency Room</td>\n",
       "      <td>5</td>\n",
       "      <td>?</td>\n",
       "      <td>...</td>\n",
       "      <td>No</td>\n",
       "      <td>No</td>\n",
       "      <td>No</td>\n",
       "      <td>No</td>\n",
       "      <td>No</td>\n",
       "      <td>Yes</td>\n",
       "      <td>False</td>\n",
       "      <td>Congestive heart failure, unspecified</td>\n",
       "      <td>Endomyocardial fibrosis</td>\n",
       "      <td>Hyperosmolality and/or hypernatremia</td>\n",
       "    </tr>\n",
       "  </tbody>\n",
       "</table>\n",
       "<p>5 rows × 52 columns</p>\n",
       "</div>"
      ],
      "text/plain": [
       "      rowID       race  gender      age weight admission_type_id  \\\n",
       "1338   1339  Caucasian  Female  [40-50)      ?          Elective   \n",
       "9848   9849  Caucasian  Female  [60-70)      ?         Emergency   \n",
       "2151   2152  Caucasian  Female  [50-60)      ?            Urgent   \n",
       "298     299  Caucasian  Female  [80-90)      ?         Emergency   \n",
       "181     182  Caucasian    Male  [30-40)      ?         Emergency   \n",
       "\n",
       "                               discharge_disposition_id  \\\n",
       "1338                                                NaN   \n",
       "9848                                 Discharged to home   \n",
       "2151                                 Discharged to home   \n",
       "298                       Discharged/transferred to ICF   \n",
       "181   Discharged/transferred to another short term h...   \n",
       "\n",
       "                             admission_source_id  time_in_hospital payer_code  \\\n",
       "1338                    Transfer from a hospital                10          ?   \n",
       "9848                              Emergency Room                 2         CM   \n",
       "2151                    Transfer from a hospital                 3          ?   \n",
       "298   Transfer from another health care facility                 2         HM   \n",
       "181                               Emergency Room                 5          ?   \n",
       "\n",
       "      ... glipizide.metformin  glimepiride.pioglitazone  \\\n",
       "1338  ...                  No                        No   \n",
       "9848  ...                  No                        No   \n",
       "2151  ...                  No                        No   \n",
       "298   ...                  No                        No   \n",
       "181   ...                  No                        No   \n",
       "\n",
       "      metformin.rosiglitazone  metformin.pioglitazone  change  diabetesMed  \\\n",
       "1338                       No                      No      Ch          Yes   \n",
       "9848                       No                      No      No          Yes   \n",
       "2151                       No                      No      No           No   \n",
       "298                        No                      No      Ch          Yes   \n",
       "181                        No                      No      No          Yes   \n",
       "\n",
       "      readmitted                                        diag_1_desc  \\\n",
       "1338       False  Coronary atherosclerosis of unspecified type o...   \n",
       "9848       False  Malignant hypertensive heart disease without h...   \n",
       "2151       False               Respiratory abnormality, unspecified   \n",
       "298        False  Amnestic disorder in conditions classified els...   \n",
       "181        False              Congestive heart failure, unspecified   \n",
       "\n",
       "                                            diag_2_desc  \\\n",
       "1338                 Postmyocardial infarction syndrome   \n",
       "9848               Hyperosmolality and/or hypernatremia   \n",
       "2151                          Achalasia and cardiospasm   \n",
       "298   Diabetes mellitus without mention of complicat...   \n",
       "181                             Endomyocardial fibrosis   \n",
       "\n",
       "                                            diag_3_desc  \n",
       "1338                          Pure hypercholesterolemia  \n",
       "9848                               Obesity, unspecified  \n",
       "2151  Femoral hernia without mention of obstruction ...  \n",
       "298                    Malignant essential hypertension  \n",
       "181                Hyperosmolality and/or hypernatremia  \n",
       "\n",
       "[5 rows x 52 columns]"
      ]
     },
     "execution_count": 12,
     "metadata": {},
     "output_type": "execute_result"
    }
   ],
   "source": [
    "#https://www.hindawi.com/journals/bmri/2014/781670/\n",
    "input_data=pd.read_csv(\"diabetes_data.csv\")\n",
    "input_data.sample(5)"
   ]
  },
  {
   "cell_type": "code",
   "execution_count": 13,
   "metadata": {},
   "outputs": [],
   "source": [
    "target='readmitted'\n",
    "model_file='pipeline.pkl'\n",
    "\n",
    "best_model = joblib.load(model_file)\n",
    "\n",
    "feature_list=list(best_model.feature_names_in_)"
   ]
  },
  {
   "cell_type": "code",
   "execution_count": 14,
   "metadata": {},
   "outputs": [],
   "source": [
    "X=input_data[feature_list]\n",
    "y=input_data[target]"
   ]
  },
  {
   "cell_type": "markdown",
   "metadata": {},
   "source": [
    "###  2) Make predictions"
   ]
  },
  {
   "cell_type": "code",
   "execution_count": 15,
   "metadata": {},
   "outputs": [],
   "source": [
    "X_train, X_test, y_train, y_test = train_test_split(X, y, test_size=0.8, random_state=1234)"
   ]
  },
  {
   "cell_type": "code",
   "execution_count": 17,
   "metadata": {},
   "outputs": [],
   "source": [
    "#get test set text predictions\n",
    "test_pred=best_model.predict_proba(X_test[list(best_model.feature_names_in_)])"
   ]
  },
  {
   "cell_type": "code",
   "execution_count": 18,
   "metadata": {},
   "outputs": [
    {
     "data": {
      "text/plain": [
       "0.6737188143206274"
      ]
     },
     "execution_count": 18,
     "metadata": {},
     "output_type": "execute_result"
    }
   ],
   "source": [
    "roc_auc_score(y_test,test_pred[:,1])"
   ]
  },
  {
   "cell_type": "code",
   "execution_count": 19,
   "metadata": {},
   "outputs": [
    {
     "data": {
      "text/plain": [
       "0.64925"
      ]
     },
     "execution_count": 19,
     "metadata": {},
     "output_type": "execute_result"
    }
   ],
   "source": [
    "accuracy_score(y_test,np.round(test_pred[:,1]))"
   ]
  },
  {
   "cell_type": "code",
   "execution_count": 20,
   "metadata": {},
   "outputs": [
    {
     "data": {
      "text/plain": [
       "0.6264990652423544"
      ]
     },
     "execution_count": 20,
     "metadata": {},
     "output_type": "execute_result"
    }
   ],
   "source": [
    "log_loss(y_test, test_pred[:,1])"
   ]
  },
  {
   "cell_type": "code",
   "execution_count": null,
   "metadata": {},
   "outputs": [],
   "source": []
  }
 ],
 "metadata": {
  "kernelspec": {
   "display_name": "py38",
   "language": "python",
   "name": "py38"
  },
  "language_info": {
   "codemirror_mode": {
    "name": "ipython",
    "version": 3
   },
   "file_extension": ".py",
   "mimetype": "text/x-python",
   "name": "python",
   "nbconvert_exporter": "python",
   "pygments_lexer": "ipython3",
   "version": "3.8.10"
  }
 },
 "nbformat": 4,
 "nbformat_minor": 4
}
