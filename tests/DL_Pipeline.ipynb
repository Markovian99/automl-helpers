{
 "cells": [
  {
   "cell_type": "markdown",
   "metadata": {},
   "source": [
    "## AutoML Process\n",
    "###  1) Import Libraries and Read data\n",
    "###  2) Define target and determine numeric, categorical, and text\n",
    "###  3) Define partitioning method and CV method\n",
    "###  4) Run Competition\n",
    "###  5) Save best model as .pkl file\n",
    "\n",
    "\n",
    "## Let's begin!"
   ]
  },
  {
   "cell_type": "markdown",
   "metadata": {},
   "source": [
    "###  1) Import Libraries and Read data"
   ]
  },
  {
   "cell_type": "code",
   "execution_count": 1,
   "metadata": {},
   "outputs": [],
   "source": [
    "from copy import copy\n",
    "\n",
    "import numpy as np\n",
    "from numpy import inf\n",
    "import pandas as pd\n",
    "from datetime import datetime\n",
    "import functools\n",
    "import matplotlib.pyplot as plt  \n",
    "\n",
    "from sklearn.pipeline import Pipeline\n",
    "from sklearn.compose import ColumnTransformer\n",
    "from sklearn import svm \n",
    "from sklearn.ensemble import RandomForestClassifier, GradientBoostingClassifier  #RF and GBM algorithm\n",
    "from sklearn.linear_model import ElasticNet, SGDClassifier\n",
    "from sklearn.model_selection import GridSearchCV   #Perforing grid search\n",
    "from sklearn import preprocessing, neighbors, metrics\n",
    "import sklearn\n",
    "if sklearn.__version__<'0.20':\n",
    "    from sklearn.cross_validation import train_test_split, KFold, StratifiedKFold, PredefinedSplit\n",
    "else:\n",
    "    from sklearn.model_selection import train_test_split, KFold, StratifiedKFold, PredefinedSplit\n",
    "\n",
    "import scipy.stats as st\n",
    "from sklearn.metrics import mean_absolute_error, accuracy_score, log_loss, make_scorer, auc, roc_auc_score\n",
    "\n",
    "\n",
    "%matplotlib inline"
   ]
  },
  {
   "cell_type": "code",
   "execution_count": 2,
   "metadata": {},
   "outputs": [
    {
     "data": {
      "text/plain": [
       "'1.0.1'"
      ]
     },
     "execution_count": 2,
     "metadata": {},
     "output_type": "execute_result"
    }
   ],
   "source": [
    "sklearn.__version__"
   ]
  },
  {
   "cell_type": "code",
   "execution_count": 3,
   "metadata": {},
   "outputs": [],
   "source": [
    "import automl\n",
    "from automl import automl_utils\n",
    "from automl import StackLayer, TextElasticNetBinary, MissingDataHandler"
   ]
  },
  {
   "cell_type": "code",
   "execution_count": 4,
   "metadata": {},
   "outputs": [],
   "source": [
    "from pipelines import gbm_classifier_pipeline, rf_classifier_pipeline, all_tree_classifier_pipeline"
   ]
  },
  {
   "cell_type": "code",
   "execution_count": 5,
   "metadata": {},
   "outputs": [],
   "source": [
    "# import importlib\n",
    "# importlib.reload(automl)"
   ]
  },
  {
   "cell_type": "code",
   "execution_count": 6,
   "metadata": {},
   "outputs": [
    {
     "data": {
      "text/html": [
       "<div>\n",
       "<style scoped>\n",
       "    .dataframe tbody tr th:only-of-type {\n",
       "        vertical-align: middle;\n",
       "    }\n",
       "\n",
       "    .dataframe tbody tr th {\n",
       "        vertical-align: top;\n",
       "    }\n",
       "\n",
       "    .dataframe thead th {\n",
       "        text-align: right;\n",
       "    }\n",
       "</style>\n",
       "<table border=\"1\" class=\"dataframe\">\n",
       "  <thead>\n",
       "    <tr style=\"text-align: right;\">\n",
       "      <th></th>\n",
       "      <th>rowID</th>\n",
       "      <th>race</th>\n",
       "      <th>gender</th>\n",
       "      <th>age</th>\n",
       "      <th>weight</th>\n",
       "      <th>admission_type_id</th>\n",
       "      <th>discharge_disposition_id</th>\n",
       "      <th>admission_source_id</th>\n",
       "      <th>time_in_hospital</th>\n",
       "      <th>payer_code</th>\n",
       "      <th>...</th>\n",
       "      <th>glipizide.metformin</th>\n",
       "      <th>glimepiride.pioglitazone</th>\n",
       "      <th>metformin.rosiglitazone</th>\n",
       "      <th>metformin.pioglitazone</th>\n",
       "      <th>change</th>\n",
       "      <th>diabetesMed</th>\n",
       "      <th>readmitted</th>\n",
       "      <th>diag_1_desc</th>\n",
       "      <th>diag_2_desc</th>\n",
       "      <th>diag_3_desc</th>\n",
       "    </tr>\n",
       "  </thead>\n",
       "  <tbody>\n",
       "    <tr>\n",
       "      <th>9247</th>\n",
       "      <td>9248</td>\n",
       "      <td>Caucasian</td>\n",
       "      <td>Female</td>\n",
       "      <td>[50-60)</td>\n",
       "      <td>?</td>\n",
       "      <td>Urgent</td>\n",
       "      <td>Discharged/transferred to home with home healt...</td>\n",
       "      <td>Transfer from a hospital</td>\n",
       "      <td>1</td>\n",
       "      <td>?</td>\n",
       "      <td>...</td>\n",
       "      <td>No</td>\n",
       "      <td>No</td>\n",
       "      <td>No</td>\n",
       "      <td>No</td>\n",
       "      <td>No</td>\n",
       "      <td>Yes</td>\n",
       "      <td>True</td>\n",
       "      <td>Cerebral thrombosis without mention of cerebra...</td>\n",
       "      <td>Basilar artery syndrome</td>\n",
       "      <td>Diabetes with neurological manifestations, typ...</td>\n",
       "    </tr>\n",
       "    <tr>\n",
       "      <th>293</th>\n",
       "      <td>294</td>\n",
       "      <td>Caucasian</td>\n",
       "      <td>Male</td>\n",
       "      <td>[60-70)</td>\n",
       "      <td>?</td>\n",
       "      <td>Emergency</td>\n",
       "      <td>Discharged to home</td>\n",
       "      <td>Physician Referral</td>\n",
       "      <td>3</td>\n",
       "      <td>CP</td>\n",
       "      <td>...</td>\n",
       "      <td>No</td>\n",
       "      <td>No</td>\n",
       "      <td>No</td>\n",
       "      <td>No</td>\n",
       "      <td>No</td>\n",
       "      <td>Yes</td>\n",
       "      <td>False</td>\n",
       "      <td>Pneumonia, organism unspecified</td>\n",
       "      <td>Hyperosmolality and/or hypernatremia</td>\n",
       "      <td>Diabetes mellitus without mention of complicat...</td>\n",
       "    </tr>\n",
       "    <tr>\n",
       "      <th>2905</th>\n",
       "      <td>2906</td>\n",
       "      <td>Caucasian</td>\n",
       "      <td>Female</td>\n",
       "      <td>[50-60)</td>\n",
       "      <td>?</td>\n",
       "      <td>Urgent</td>\n",
       "      <td>Discharged to home</td>\n",
       "      <td>Emergency Room</td>\n",
       "      <td>1</td>\n",
       "      <td>UN</td>\n",
       "      <td>...</td>\n",
       "      <td>No</td>\n",
       "      <td>No</td>\n",
       "      <td>No</td>\n",
       "      <td>No</td>\n",
       "      <td>No</td>\n",
       "      <td>No</td>\n",
       "      <td>True</td>\n",
       "      <td>Hyperosmolality and/or hypernatremia</td>\n",
       "      <td>Secondary malignant neoplasm of kidney</td>\n",
       "      <td>Alteration of consciousness</td>\n",
       "    </tr>\n",
       "    <tr>\n",
       "      <th>4328</th>\n",
       "      <td>4329</td>\n",
       "      <td>Caucasian</td>\n",
       "      <td>Male</td>\n",
       "      <td>[70-80)</td>\n",
       "      <td>?</td>\n",
       "      <td>Elective</td>\n",
       "      <td>NaN</td>\n",
       "      <td>Transfer from a hospital</td>\n",
       "      <td>6</td>\n",
       "      <td>?</td>\n",
       "      <td>...</td>\n",
       "      <td>No</td>\n",
       "      <td>No</td>\n",
       "      <td>No</td>\n",
       "      <td>No</td>\n",
       "      <td>No</td>\n",
       "      <td>Yes</td>\n",
       "      <td>False</td>\n",
       "      <td>Coronary atherosclerosis of unspecified type o...</td>\n",
       "      <td>Postmyocardial infarction syndrome</td>\n",
       "      <td>Coronary atherosclerosis of unspecified type o...</td>\n",
       "    </tr>\n",
       "    <tr>\n",
       "      <th>368</th>\n",
       "      <td>369</td>\n",
       "      <td>Caucasian</td>\n",
       "      <td>Female</td>\n",
       "      <td>[70-80)</td>\n",
       "      <td>?</td>\n",
       "      <td>Emergency</td>\n",
       "      <td>NaN</td>\n",
       "      <td>Emergency Room</td>\n",
       "      <td>11</td>\n",
       "      <td>?</td>\n",
       "      <td>...</td>\n",
       "      <td>No</td>\n",
       "      <td>No</td>\n",
       "      <td>No</td>\n",
       "      <td>No</td>\n",
       "      <td>Ch</td>\n",
       "      <td>Yes</td>\n",
       "      <td>True</td>\n",
       "      <td>Acute myocardial infarction of anterolateral w...</td>\n",
       "      <td>Congestive heart failure, unspecified</td>\n",
       "      <td>Nonspecific findings on examination of blood</td>\n",
       "    </tr>\n",
       "  </tbody>\n",
       "</table>\n",
       "<p>5 rows × 52 columns</p>\n",
       "</div>"
      ],
      "text/plain": [
       "      rowID       race  gender      age weight admission_type_id  \\\n",
       "9247   9248  Caucasian  Female  [50-60)      ?            Urgent   \n",
       "293     294  Caucasian    Male  [60-70)      ?         Emergency   \n",
       "2905   2906  Caucasian  Female  [50-60)      ?            Urgent   \n",
       "4328   4329  Caucasian    Male  [70-80)      ?          Elective   \n",
       "368     369  Caucasian  Female  [70-80)      ?         Emergency   \n",
       "\n",
       "                               discharge_disposition_id  \\\n",
       "9247  Discharged/transferred to home with home healt...   \n",
       "293                                  Discharged to home   \n",
       "2905                                 Discharged to home   \n",
       "4328                                                NaN   \n",
       "368                                                 NaN   \n",
       "\n",
       "           admission_source_id  time_in_hospital payer_code  ...  \\\n",
       "9247  Transfer from a hospital                 1          ?  ...   \n",
       "293         Physician Referral                 3         CP  ...   \n",
       "2905            Emergency Room                 1         UN  ...   \n",
       "4328  Transfer from a hospital                 6          ?  ...   \n",
       "368             Emergency Room                11          ?  ...   \n",
       "\n",
       "     glipizide.metformin  glimepiride.pioglitazone  metformin.rosiglitazone  \\\n",
       "9247                  No                        No                       No   \n",
       "293                   No                        No                       No   \n",
       "2905                  No                        No                       No   \n",
       "4328                  No                        No                       No   \n",
       "368                   No                        No                       No   \n",
       "\n",
       "      metformin.pioglitazone  change  diabetesMed  readmitted  \\\n",
       "9247                      No      No          Yes        True   \n",
       "293                       No      No          Yes       False   \n",
       "2905                      No      No           No        True   \n",
       "4328                      No      No          Yes       False   \n",
       "368                       No      Ch          Yes        True   \n",
       "\n",
       "                                            diag_1_desc  \\\n",
       "9247  Cerebral thrombosis without mention of cerebra...   \n",
       "293                     Pneumonia, organism unspecified   \n",
       "2905               Hyperosmolality and/or hypernatremia   \n",
       "4328  Coronary atherosclerosis of unspecified type o...   \n",
       "368   Acute myocardial infarction of anterolateral w...   \n",
       "\n",
       "                                 diag_2_desc  \\\n",
       "9247                 Basilar artery syndrome   \n",
       "293     Hyperosmolality and/or hypernatremia   \n",
       "2905  Secondary malignant neoplasm of kidney   \n",
       "4328      Postmyocardial infarction syndrome   \n",
       "368    Congestive heart failure, unspecified   \n",
       "\n",
       "                                            diag_3_desc  \n",
       "9247  Diabetes with neurological manifestations, typ...  \n",
       "293   Diabetes mellitus without mention of complicat...  \n",
       "2905                        Alteration of consciousness  \n",
       "4328  Coronary atherosclerosis of unspecified type o...  \n",
       "368        Nonspecific findings on examination of blood  \n",
       "\n",
       "[5 rows x 52 columns]"
      ]
     },
     "execution_count": 6,
     "metadata": {},
     "output_type": "execute_result"
    }
   ],
   "source": [
    "input_data=pd.read_csv(\"diabetes_data.csv\")\n",
    "input_data.sample(5)"
   ]
  },
  {
   "cell_type": "markdown",
   "metadata": {},
   "source": [
    "###  2) Define target and determine numeric, categorical, and text"
   ]
  },
  {
   "cell_type": "code",
   "execution_count": 7,
   "metadata": {},
   "outputs": [],
   "source": [
    "target=\"readmitted\""
   ]
  },
  {
   "cell_type": "code",
   "execution_count": 8,
   "metadata": {},
   "outputs": [
    {
     "data": {
      "text/html": [
       "<div>\n",
       "<style scoped>\n",
       "    .dataframe tbody tr th:only-of-type {\n",
       "        vertical-align: middle;\n",
       "    }\n",
       "\n",
       "    .dataframe tbody tr th {\n",
       "        vertical-align: top;\n",
       "    }\n",
       "\n",
       "    .dataframe thead th {\n",
       "        text-align: right;\n",
       "    }\n",
       "</style>\n",
       "<table border=\"1\" class=\"dataframe\">\n",
       "  <thead>\n",
       "    <tr style=\"text-align: right;\">\n",
       "      <th></th>\n",
       "      <th>feature_name</th>\n",
       "      <th>count</th>\n",
       "      <th>unique</th>\n",
       "      <th>top</th>\n",
       "      <th>freq</th>\n",
       "      <th>mean</th>\n",
       "      <th>std</th>\n",
       "      <th>min</th>\n",
       "      <th>25%</th>\n",
       "      <th>50%</th>\n",
       "      <th>75%</th>\n",
       "      <th>max</th>\n",
       "      <th>num_unique</th>\n",
       "      <th>feature_type</th>\n",
       "      <th>missing_count</th>\n",
       "    </tr>\n",
       "  </thead>\n",
       "  <tbody>\n",
       "    <tr>\n",
       "      <th>0</th>\n",
       "      <td>rowID</td>\n",
       "      <td>10000.0</td>\n",
       "      <td>NaN</td>\n",
       "      <td>NaN</td>\n",
       "      <td>NaN</td>\n",
       "      <td>5000.5</td>\n",
       "      <td>2886.89568</td>\n",
       "      <td>1.0</td>\n",
       "      <td>2500.75</td>\n",
       "      <td>5000.5</td>\n",
       "      <td>7500.25</td>\n",
       "      <td>10000.0</td>\n",
       "      <td>10000</td>\n",
       "      <td>Numeric</td>\n",
       "      <td>0</td>\n",
       "    </tr>\n",
       "    <tr>\n",
       "      <th>1</th>\n",
       "      <td>race</td>\n",
       "      <td>10000</td>\n",
       "      <td>6</td>\n",
       "      <td>Caucasian</td>\n",
       "      <td>7359</td>\n",
       "      <td>NaN</td>\n",
       "      <td>NaN</td>\n",
       "      <td>NaN</td>\n",
       "      <td>NaN</td>\n",
       "      <td>NaN</td>\n",
       "      <td>NaN</td>\n",
       "      <td>NaN</td>\n",
       "      <td>6</td>\n",
       "      <td>Categorical</td>\n",
       "      <td>0</td>\n",
       "    </tr>\n",
       "    <tr>\n",
       "      <th>2</th>\n",
       "      <td>gender</td>\n",
       "      <td>10000</td>\n",
       "      <td>2</td>\n",
       "      <td>Female</td>\n",
       "      <td>5398</td>\n",
       "      <td>NaN</td>\n",
       "      <td>NaN</td>\n",
       "      <td>NaN</td>\n",
       "      <td>NaN</td>\n",
       "      <td>NaN</td>\n",
       "      <td>NaN</td>\n",
       "      <td>NaN</td>\n",
       "      <td>2</td>\n",
       "      <td>Categorical</td>\n",
       "      <td>0</td>\n",
       "    </tr>\n",
       "    <tr>\n",
       "      <th>3</th>\n",
       "      <td>age</td>\n",
       "      <td>10000</td>\n",
       "      <td>10</td>\n",
       "      <td>[70-80)</td>\n",
       "      <td>2595</td>\n",
       "      <td>NaN</td>\n",
       "      <td>NaN</td>\n",
       "      <td>NaN</td>\n",
       "      <td>NaN</td>\n",
       "      <td>NaN</td>\n",
       "      <td>NaN</td>\n",
       "      <td>NaN</td>\n",
       "      <td>10</td>\n",
       "      <td>Categorical</td>\n",
       "      <td>0</td>\n",
       "    </tr>\n",
       "    <tr>\n",
       "      <th>4</th>\n",
       "      <td>weight</td>\n",
       "      <td>10000</td>\n",
       "      <td>8</td>\n",
       "      <td>?</td>\n",
       "      <td>9592</td>\n",
       "      <td>NaN</td>\n",
       "      <td>NaN</td>\n",
       "      <td>NaN</td>\n",
       "      <td>NaN</td>\n",
       "      <td>NaN</td>\n",
       "      <td>NaN</td>\n",
       "      <td>NaN</td>\n",
       "      <td>8</td>\n",
       "      <td>Categorical</td>\n",
       "      <td>0</td>\n",
       "    </tr>\n",
       "    <tr>\n",
       "      <th>5</th>\n",
       "      <td>admission_type_id</td>\n",
       "      <td>9279</td>\n",
       "      <td>6</td>\n",
       "      <td>Emergency</td>\n",
       "      <td>4905</td>\n",
       "      <td>NaN</td>\n",
       "      <td>NaN</td>\n",
       "      <td>NaN</td>\n",
       "      <td>NaN</td>\n",
       "      <td>NaN</td>\n",
       "      <td>NaN</td>\n",
       "      <td>NaN</td>\n",
       "      <td>6</td>\n",
       "      <td>Categorical</td>\n",
       "      <td>721</td>\n",
       "    </tr>\n",
       "    <tr>\n",
       "      <th>6</th>\n",
       "      <td>discharge_disposition_id</td>\n",
       "      <td>9531</td>\n",
       "      <td>21</td>\n",
       "      <td>Discharged to home</td>\n",
       "      <td>6056</td>\n",
       "      <td>NaN</td>\n",
       "      <td>NaN</td>\n",
       "      <td>NaN</td>\n",
       "      <td>NaN</td>\n",
       "      <td>NaN</td>\n",
       "      <td>NaN</td>\n",
       "      <td>NaN</td>\n",
       "      <td>21</td>\n",
       "      <td>Categorical</td>\n",
       "      <td>469</td>\n",
       "    </tr>\n",
       "    <tr>\n",
       "      <th>7</th>\n",
       "      <td>admission_source_id</td>\n",
       "      <td>9064</td>\n",
       "      <td>10</td>\n",
       "      <td>Emergency Room</td>\n",
       "      <td>4940</td>\n",
       "      <td>NaN</td>\n",
       "      <td>NaN</td>\n",
       "      <td>NaN</td>\n",
       "      <td>NaN</td>\n",
       "      <td>NaN</td>\n",
       "      <td>NaN</td>\n",
       "      <td>NaN</td>\n",
       "      <td>10</td>\n",
       "      <td>Categorical</td>\n",
       "      <td>936</td>\n",
       "    </tr>\n",
       "    <tr>\n",
       "      <th>8</th>\n",
       "      <td>time_in_hospital</td>\n",
       "      <td>10000.0</td>\n",
       "      <td>NaN</td>\n",
       "      <td>NaN</td>\n",
       "      <td>NaN</td>\n",
       "      <td>4.4347</td>\n",
       "      <td>3.021597</td>\n",
       "      <td>1.0</td>\n",
       "      <td>2.0</td>\n",
       "      <td>4.0</td>\n",
       "      <td>6.0</td>\n",
       "      <td>14.0</td>\n",
       "      <td>14</td>\n",
       "      <td></td>\n",
       "      <td>0</td>\n",
       "    </tr>\n",
       "    <tr>\n",
       "      <th>9</th>\n",
       "      <td>payer_code</td>\n",
       "      <td>10000</td>\n",
       "      <td>16</td>\n",
       "      <td>?</td>\n",
       "      <td>5341</td>\n",
       "      <td>NaN</td>\n",
       "      <td>NaN</td>\n",
       "      <td>NaN</td>\n",
       "      <td>NaN</td>\n",
       "      <td>NaN</td>\n",
       "      <td>NaN</td>\n",
       "      <td>NaN</td>\n",
       "      <td>16</td>\n",
       "      <td>Categorical</td>\n",
       "      <td>0</td>\n",
       "    </tr>\n",
       "    <tr>\n",
       "      <th>10</th>\n",
       "      <td>medical_specialty</td>\n",
       "      <td>10000</td>\n",
       "      <td>53</td>\n",
       "      <td>?</td>\n",
       "      <td>4100</td>\n",
       "      <td>NaN</td>\n",
       "      <td>NaN</td>\n",
       "      <td>NaN</td>\n",
       "      <td>NaN</td>\n",
       "      <td>NaN</td>\n",
       "      <td>NaN</td>\n",
       "      <td>NaN</td>\n",
       "      <td>53</td>\n",
       "      <td>Categorical</td>\n",
       "      <td>0</td>\n",
       "    </tr>\n",
       "    <tr>\n",
       "      <th>11</th>\n",
       "      <td>num_lab_procedures</td>\n",
       "      <td>10000.0</td>\n",
       "      <td>NaN</td>\n",
       "      <td>NaN</td>\n",
       "      <td>NaN</td>\n",
       "      <td>43.0786</td>\n",
       "      <td>19.453315</td>\n",
       "      <td>1.0</td>\n",
       "      <td>32.0</td>\n",
       "      <td>44.0</td>\n",
       "      <td>57.0</td>\n",
       "      <td>120.0</td>\n",
       "      <td>108</td>\n",
       "      <td>Numeric</td>\n",
       "      <td>0</td>\n",
       "    </tr>\n",
       "    <tr>\n",
       "      <th>12</th>\n",
       "      <td>num_procedures</td>\n",
       "      <td>10000.0</td>\n",
       "      <td>NaN</td>\n",
       "      <td>NaN</td>\n",
       "      <td>NaN</td>\n",
       "      <td>1.3992</td>\n",
       "      <td>1.706438</td>\n",
       "      <td>0.0</td>\n",
       "      <td>0.0</td>\n",
       "      <td>1.0</td>\n",
       "      <td>2.0</td>\n",
       "      <td>6.0</td>\n",
       "      <td>7</td>\n",
       "      <td></td>\n",
       "      <td>0</td>\n",
       "    </tr>\n",
       "    <tr>\n",
       "      <th>13</th>\n",
       "      <td>num_medications</td>\n",
       "      <td>10000.0</td>\n",
       "      <td>NaN</td>\n",
       "      <td>NaN</td>\n",
       "      <td>NaN</td>\n",
       "      <td>15.5638</td>\n",
       "      <td>8.391613</td>\n",
       "      <td>1.0</td>\n",
       "      <td>10.0</td>\n",
       "      <td>14.0</td>\n",
       "      <td>19.0</td>\n",
       "      <td>81.0</td>\n",
       "      <td>68</td>\n",
       "      <td></td>\n",
       "      <td>0</td>\n",
       "    </tr>\n",
       "    <tr>\n",
       "      <th>14</th>\n",
       "      <td>number_outpatient</td>\n",
       "      <td>10000.0</td>\n",
       "      <td>NaN</td>\n",
       "      <td>NaN</td>\n",
       "      <td>NaN</td>\n",
       "      <td>0.2817</td>\n",
       "      <td>1.119406</td>\n",
       "      <td>0.0</td>\n",
       "      <td>0.0</td>\n",
       "      <td>0.0</td>\n",
       "      <td>0.0</td>\n",
       "      <td>36.0</td>\n",
       "      <td>23</td>\n",
       "      <td></td>\n",
       "      <td>0</td>\n",
       "    </tr>\n",
       "    <tr>\n",
       "      <th>15</th>\n",
       "      <td>number_emergency</td>\n",
       "      <td>10000.0</td>\n",
       "      <td>NaN</td>\n",
       "      <td>NaN</td>\n",
       "      <td>NaN</td>\n",
       "      <td>0.115</td>\n",
       "      <td>0.649475</td>\n",
       "      <td>0.0</td>\n",
       "      <td>0.0</td>\n",
       "      <td>0.0</td>\n",
       "      <td>0.0</td>\n",
       "      <td>42.0</td>\n",
       "      <td>12</td>\n",
       "      <td></td>\n",
       "      <td>0</td>\n",
       "    </tr>\n",
       "    <tr>\n",
       "      <th>16</th>\n",
       "      <td>number_inpatient</td>\n",
       "      <td>10000.0</td>\n",
       "      <td>NaN</td>\n",
       "      <td>NaN</td>\n",
       "      <td>NaN</td>\n",
       "      <td>0.3873</td>\n",
       "      <td>0.854267</td>\n",
       "      <td>0.0</td>\n",
       "      <td>0.0</td>\n",
       "      <td>0.0</td>\n",
       "      <td>0.0</td>\n",
       "      <td>10.0</td>\n",
       "      <td>11</td>\n",
       "      <td></td>\n",
       "      <td>0</td>\n",
       "    </tr>\n",
       "    <tr>\n",
       "      <th>17</th>\n",
       "      <td>diag_1</td>\n",
       "      <td>10000</td>\n",
       "      <td>458</td>\n",
       "      <td>414</td>\n",
       "      <td>735</td>\n",
       "      <td>NaN</td>\n",
       "      <td>NaN</td>\n",
       "      <td>NaN</td>\n",
       "      <td>NaN</td>\n",
       "      <td>NaN</td>\n",
       "      <td>NaN</td>\n",
       "      <td>NaN</td>\n",
       "      <td>458</td>\n",
       "      <td>Categorical</td>\n",
       "      <td>0</td>\n",
       "    </tr>\n",
       "    <tr>\n",
       "      <th>18</th>\n",
       "      <td>diag_2</td>\n",
       "      <td>10000</td>\n",
       "      <td>430</td>\n",
       "      <td>250</td>\n",
       "      <td>684</td>\n",
       "      <td>NaN</td>\n",
       "      <td>NaN</td>\n",
       "      <td>NaN</td>\n",
       "      <td>NaN</td>\n",
       "      <td>NaN</td>\n",
       "      <td>NaN</td>\n",
       "      <td>NaN</td>\n",
       "      <td>430</td>\n",
       "      <td>Categorical</td>\n",
       "      <td>0</td>\n",
       "    </tr>\n",
       "    <tr>\n",
       "      <th>19</th>\n",
       "      <td>diag_3</td>\n",
       "      <td>10000</td>\n",
       "      <td>461</td>\n",
       "      <td>250</td>\n",
       "      <td>1276</td>\n",
       "      <td>NaN</td>\n",
       "      <td>NaN</td>\n",
       "      <td>NaN</td>\n",
       "      <td>NaN</td>\n",
       "      <td>NaN</td>\n",
       "      <td>NaN</td>\n",
       "      <td>NaN</td>\n",
       "      <td>461</td>\n",
       "      <td>Categorical</td>\n",
       "      <td>0</td>\n",
       "    </tr>\n",
       "    <tr>\n",
       "      <th>20</th>\n",
       "      <td>number_diagnoses</td>\n",
       "      <td>10000.0</td>\n",
       "      <td>NaN</td>\n",
       "      <td>NaN</td>\n",
       "      <td>NaN</td>\n",
       "      <td>7.0253</td>\n",
       "      <td>2.020957</td>\n",
       "      <td>1.0</td>\n",
       "      <td>5.0</td>\n",
       "      <td>7.0</td>\n",
       "      <td>9.0</td>\n",
       "      <td>9.0</td>\n",
       "      <td>9</td>\n",
       "      <td></td>\n",
       "      <td>0</td>\n",
       "    </tr>\n",
       "    <tr>\n",
       "      <th>21</th>\n",
       "      <td>max_glu_serum</td>\n",
       "      <td>10000</td>\n",
       "      <td>4</td>\n",
       "      <td>None</td>\n",
       "      <td>9336</td>\n",
       "      <td>NaN</td>\n",
       "      <td>NaN</td>\n",
       "      <td>NaN</td>\n",
       "      <td>NaN</td>\n",
       "      <td>NaN</td>\n",
       "      <td>NaN</td>\n",
       "      <td>NaN</td>\n",
       "      <td>4</td>\n",
       "      <td>Categorical</td>\n",
       "      <td>0</td>\n",
       "    </tr>\n",
       "    <tr>\n",
       "      <th>22</th>\n",
       "      <td>A1Cresult</td>\n",
       "      <td>10000</td>\n",
       "      <td>4</td>\n",
       "      <td>None</td>\n",
       "      <td>8379</td>\n",
       "      <td>NaN</td>\n",
       "      <td>NaN</td>\n",
       "      <td>NaN</td>\n",
       "      <td>NaN</td>\n",
       "      <td>NaN</td>\n",
       "      <td>NaN</td>\n",
       "      <td>NaN</td>\n",
       "      <td>4</td>\n",
       "      <td>Categorical</td>\n",
       "      <td>0</td>\n",
       "    </tr>\n",
       "    <tr>\n",
       "      <th>23</th>\n",
       "      <td>metformin</td>\n",
       "      <td>10000</td>\n",
       "      <td>4</td>\n",
       "      <td>No</td>\n",
       "      <td>8011</td>\n",
       "      <td>NaN</td>\n",
       "      <td>NaN</td>\n",
       "      <td>NaN</td>\n",
       "      <td>NaN</td>\n",
       "      <td>NaN</td>\n",
       "      <td>NaN</td>\n",
       "      <td>NaN</td>\n",
       "      <td>4</td>\n",
       "      <td>Categorical</td>\n",
       "      <td>0</td>\n",
       "    </tr>\n",
       "    <tr>\n",
       "      <th>24</th>\n",
       "      <td>repaglinide</td>\n",
       "      <td>10000</td>\n",
       "      <td>4</td>\n",
       "      <td>No</td>\n",
       "      <td>9870</td>\n",
       "      <td>NaN</td>\n",
       "      <td>NaN</td>\n",
       "      <td>NaN</td>\n",
       "      <td>NaN</td>\n",
       "      <td>NaN</td>\n",
       "      <td>NaN</td>\n",
       "      <td>NaN</td>\n",
       "      <td>4</td>\n",
       "      <td>Categorical</td>\n",
       "      <td>0</td>\n",
       "    </tr>\n",
       "    <tr>\n",
       "      <th>25</th>\n",
       "      <td>nateglinide</td>\n",
       "      <td>10000</td>\n",
       "      <td>4</td>\n",
       "      <td>No</td>\n",
       "      <td>9949</td>\n",
       "      <td>NaN</td>\n",
       "      <td>NaN</td>\n",
       "      <td>NaN</td>\n",
       "      <td>NaN</td>\n",
       "      <td>NaN</td>\n",
       "      <td>NaN</td>\n",
       "      <td>NaN</td>\n",
       "      <td>4</td>\n",
       "      <td>Categorical</td>\n",
       "      <td>0</td>\n",
       "    </tr>\n",
       "    <tr>\n",
       "      <th>26</th>\n",
       "      <td>chlorpropamide</td>\n",
       "      <td>10000</td>\n",
       "      <td>3</td>\n",
       "      <td>No</td>\n",
       "      <td>9987</td>\n",
       "      <td>NaN</td>\n",
       "      <td>NaN</td>\n",
       "      <td>NaN</td>\n",
       "      <td>NaN</td>\n",
       "      <td>NaN</td>\n",
       "      <td>NaN</td>\n",
       "      <td>NaN</td>\n",
       "      <td>3</td>\n",
       "      <td>Categorical</td>\n",
       "      <td>0</td>\n",
       "    </tr>\n",
       "    <tr>\n",
       "      <th>27</th>\n",
       "      <td>glimepiride</td>\n",
       "      <td>10000</td>\n",
       "      <td>4</td>\n",
       "      <td>No</td>\n",
       "      <td>9509</td>\n",
       "      <td>NaN</td>\n",
       "      <td>NaN</td>\n",
       "      <td>NaN</td>\n",
       "      <td>NaN</td>\n",
       "      <td>NaN</td>\n",
       "      <td>NaN</td>\n",
       "      <td>NaN</td>\n",
       "      <td>4</td>\n",
       "      <td>Categorical</td>\n",
       "      <td>0</td>\n",
       "    </tr>\n",
       "    <tr>\n",
       "      <th>28</th>\n",
       "      <td>acetohexamide</td>\n",
       "      <td>10000</td>\n",
       "      <td>1</td>\n",
       "      <td>No</td>\n",
       "      <td>10000</td>\n",
       "      <td>NaN</td>\n",
       "      <td>NaN</td>\n",
       "      <td>NaN</td>\n",
       "      <td>NaN</td>\n",
       "      <td>NaN</td>\n",
       "      <td>NaN</td>\n",
       "      <td>NaN</td>\n",
       "      <td>1</td>\n",
       "      <td>Categorical</td>\n",
       "      <td>0</td>\n",
       "    </tr>\n",
       "    <tr>\n",
       "      <th>29</th>\n",
       "      <td>glipizide</td>\n",
       "      <td>10000</td>\n",
       "      <td>4</td>\n",
       "      <td>No</td>\n",
       "      <td>8696</td>\n",
       "      <td>NaN</td>\n",
       "      <td>NaN</td>\n",
       "      <td>NaN</td>\n",
       "      <td>NaN</td>\n",
       "      <td>NaN</td>\n",
       "      <td>NaN</td>\n",
       "      <td>NaN</td>\n",
       "      <td>4</td>\n",
       "      <td>Categorical</td>\n",
       "      <td>0</td>\n",
       "    </tr>\n",
       "    <tr>\n",
       "      <th>30</th>\n",
       "      <td>glyburide</td>\n",
       "      <td>10000</td>\n",
       "      <td>4</td>\n",
       "      <td>No</td>\n",
       "      <td>8814</td>\n",
       "      <td>NaN</td>\n",
       "      <td>NaN</td>\n",
       "      <td>NaN</td>\n",
       "      <td>NaN</td>\n",
       "      <td>NaN</td>\n",
       "      <td>NaN</td>\n",
       "      <td>NaN</td>\n",
       "      <td>4</td>\n",
       "      <td>Categorical</td>\n",
       "      <td>0</td>\n",
       "    </tr>\n",
       "    <tr>\n",
       "      <th>31</th>\n",
       "      <td>tolbutamide</td>\n",
       "      <td>10000</td>\n",
       "      <td>2</td>\n",
       "      <td>No</td>\n",
       "      <td>9997</td>\n",
       "      <td>NaN</td>\n",
       "      <td>NaN</td>\n",
       "      <td>NaN</td>\n",
       "      <td>NaN</td>\n",
       "      <td>NaN</td>\n",
       "      <td>NaN</td>\n",
       "      <td>NaN</td>\n",
       "      <td>2</td>\n",
       "      <td>Categorical</td>\n",
       "      <td>0</td>\n",
       "    </tr>\n",
       "    <tr>\n",
       "      <th>32</th>\n",
       "      <td>pioglitazone</td>\n",
       "      <td>10000</td>\n",
       "      <td>4</td>\n",
       "      <td>No</td>\n",
       "      <td>9294</td>\n",
       "      <td>NaN</td>\n",
       "      <td>NaN</td>\n",
       "      <td>NaN</td>\n",
       "      <td>NaN</td>\n",
       "      <td>NaN</td>\n",
       "      <td>NaN</td>\n",
       "      <td>NaN</td>\n",
       "      <td>4</td>\n",
       "      <td>Categorical</td>\n",
       "      <td>0</td>\n",
       "    </tr>\n",
       "    <tr>\n",
       "      <th>33</th>\n",
       "      <td>rosiglitazone</td>\n",
       "      <td>10000</td>\n",
       "      <td>4</td>\n",
       "      <td>No</td>\n",
       "      <td>9239</td>\n",
       "      <td>NaN</td>\n",
       "      <td>NaN</td>\n",
       "      <td>NaN</td>\n",
       "      <td>NaN</td>\n",
       "      <td>NaN</td>\n",
       "      <td>NaN</td>\n",
       "      <td>NaN</td>\n",
       "      <td>4</td>\n",
       "      <td>Categorical</td>\n",
       "      <td>0</td>\n",
       "    </tr>\n",
       "    <tr>\n",
       "      <th>34</th>\n",
       "      <td>acarbose</td>\n",
       "      <td>10000</td>\n",
       "      <td>3</td>\n",
       "      <td>No</td>\n",
       "      <td>9968</td>\n",
       "      <td>NaN</td>\n",
       "      <td>NaN</td>\n",
       "      <td>NaN</td>\n",
       "      <td>NaN</td>\n",
       "      <td>NaN</td>\n",
       "      <td>NaN</td>\n",
       "      <td>NaN</td>\n",
       "      <td>3</td>\n",
       "      <td>Categorical</td>\n",
       "      <td>0</td>\n",
       "    </tr>\n",
       "    <tr>\n",
       "      <th>35</th>\n",
       "      <td>miglitol</td>\n",
       "      <td>10000</td>\n",
       "      <td>4</td>\n",
       "      <td>No</td>\n",
       "      <td>9995</td>\n",
       "      <td>NaN</td>\n",
       "      <td>NaN</td>\n",
       "      <td>NaN</td>\n",
       "      <td>NaN</td>\n",
       "      <td>NaN</td>\n",
       "      <td>NaN</td>\n",
       "      <td>NaN</td>\n",
       "      <td>4</td>\n",
       "      <td>Categorical</td>\n",
       "      <td>0</td>\n",
       "    </tr>\n",
       "    <tr>\n",
       "      <th>36</th>\n",
       "      <td>troglitazone</td>\n",
       "      <td>10000</td>\n",
       "      <td>1</td>\n",
       "      <td>No</td>\n",
       "      <td>10000</td>\n",
       "      <td>NaN</td>\n",
       "      <td>NaN</td>\n",
       "      <td>NaN</td>\n",
       "      <td>NaN</td>\n",
       "      <td>NaN</td>\n",
       "      <td>NaN</td>\n",
       "      <td>NaN</td>\n",
       "      <td>1</td>\n",
       "      <td>Categorical</td>\n",
       "      <td>0</td>\n",
       "    </tr>\n",
       "    <tr>\n",
       "      <th>37</th>\n",
       "      <td>tolazamide</td>\n",
       "      <td>10000</td>\n",
       "      <td>2</td>\n",
       "      <td>No</td>\n",
       "      <td>9996</td>\n",
       "      <td>NaN</td>\n",
       "      <td>NaN</td>\n",
       "      <td>NaN</td>\n",
       "      <td>NaN</td>\n",
       "      <td>NaN</td>\n",
       "      <td>NaN</td>\n",
       "      <td>NaN</td>\n",
       "      <td>2</td>\n",
       "      <td>Categorical</td>\n",
       "      <td>0</td>\n",
       "    </tr>\n",
       "    <tr>\n",
       "      <th>38</th>\n",
       "      <td>examide</td>\n",
       "      <td>10000</td>\n",
       "      <td>1</td>\n",
       "      <td>No</td>\n",
       "      <td>10000</td>\n",
       "      <td>NaN</td>\n",
       "      <td>NaN</td>\n",
       "      <td>NaN</td>\n",
       "      <td>NaN</td>\n",
       "      <td>NaN</td>\n",
       "      <td>NaN</td>\n",
       "      <td>NaN</td>\n",
       "      <td>1</td>\n",
       "      <td>Categorical</td>\n",
       "      <td>0</td>\n",
       "    </tr>\n",
       "    <tr>\n",
       "      <th>39</th>\n",
       "      <td>citoglipton</td>\n",
       "      <td>10000</td>\n",
       "      <td>1</td>\n",
       "      <td>No</td>\n",
       "      <td>10000</td>\n",
       "      <td>NaN</td>\n",
       "      <td>NaN</td>\n",
       "      <td>NaN</td>\n",
       "      <td>NaN</td>\n",
       "      <td>NaN</td>\n",
       "      <td>NaN</td>\n",
       "      <td>NaN</td>\n",
       "      <td>1</td>\n",
       "      <td>Categorical</td>\n",
       "      <td>0</td>\n",
       "    </tr>\n",
       "    <tr>\n",
       "      <th>40</th>\n",
       "      <td>insulin</td>\n",
       "      <td>10000</td>\n",
       "      <td>4</td>\n",
       "      <td>No</td>\n",
       "      <td>5159</td>\n",
       "      <td>NaN</td>\n",
       "      <td>NaN</td>\n",
       "      <td>NaN</td>\n",
       "      <td>NaN</td>\n",
       "      <td>NaN</td>\n",
       "      <td>NaN</td>\n",
       "      <td>NaN</td>\n",
       "      <td>4</td>\n",
       "      <td>Categorical</td>\n",
       "      <td>0</td>\n",
       "    </tr>\n",
       "    <tr>\n",
       "      <th>41</th>\n",
       "      <td>glyburide.metformin</td>\n",
       "      <td>10000</td>\n",
       "      <td>4</td>\n",
       "      <td>No</td>\n",
       "      <td>9944</td>\n",
       "      <td>NaN</td>\n",
       "      <td>NaN</td>\n",
       "      <td>NaN</td>\n",
       "      <td>NaN</td>\n",
       "      <td>NaN</td>\n",
       "      <td>NaN</td>\n",
       "      <td>NaN</td>\n",
       "      <td>4</td>\n",
       "      <td>Categorical</td>\n",
       "      <td>0</td>\n",
       "    </tr>\n",
       "    <tr>\n",
       "      <th>42</th>\n",
       "      <td>glipizide.metformin</td>\n",
       "      <td>10000</td>\n",
       "      <td>2</td>\n",
       "      <td>No</td>\n",
       "      <td>9998</td>\n",
       "      <td>NaN</td>\n",
       "      <td>NaN</td>\n",
       "      <td>NaN</td>\n",
       "      <td>NaN</td>\n",
       "      <td>NaN</td>\n",
       "      <td>NaN</td>\n",
       "      <td>NaN</td>\n",
       "      <td>2</td>\n",
       "      <td>Categorical</td>\n",
       "      <td>0</td>\n",
       "    </tr>\n",
       "    <tr>\n",
       "      <th>43</th>\n",
       "      <td>glimepiride.pioglitazone</td>\n",
       "      <td>10000</td>\n",
       "      <td>1</td>\n",
       "      <td>No</td>\n",
       "      <td>10000</td>\n",
       "      <td>NaN</td>\n",
       "      <td>NaN</td>\n",
       "      <td>NaN</td>\n",
       "      <td>NaN</td>\n",
       "      <td>NaN</td>\n",
       "      <td>NaN</td>\n",
       "      <td>NaN</td>\n",
       "      <td>1</td>\n",
       "      <td>Categorical</td>\n",
       "      <td>0</td>\n",
       "    </tr>\n",
       "    <tr>\n",
       "      <th>44</th>\n",
       "      <td>metformin.rosiglitazone</td>\n",
       "      <td>10000</td>\n",
       "      <td>1</td>\n",
       "      <td>No</td>\n",
       "      <td>10000</td>\n",
       "      <td>NaN</td>\n",
       "      <td>NaN</td>\n",
       "      <td>NaN</td>\n",
       "      <td>NaN</td>\n",
       "      <td>NaN</td>\n",
       "      <td>NaN</td>\n",
       "      <td>NaN</td>\n",
       "      <td>1</td>\n",
       "      <td>Categorical</td>\n",
       "      <td>0</td>\n",
       "    </tr>\n",
       "    <tr>\n",
       "      <th>45</th>\n",
       "      <td>metformin.pioglitazone</td>\n",
       "      <td>10000</td>\n",
       "      <td>1</td>\n",
       "      <td>No</td>\n",
       "      <td>10000</td>\n",
       "      <td>NaN</td>\n",
       "      <td>NaN</td>\n",
       "      <td>NaN</td>\n",
       "      <td>NaN</td>\n",
       "      <td>NaN</td>\n",
       "      <td>NaN</td>\n",
       "      <td>NaN</td>\n",
       "      <td>1</td>\n",
       "      <td>Categorical</td>\n",
       "      <td>0</td>\n",
       "    </tr>\n",
       "    <tr>\n",
       "      <th>46</th>\n",
       "      <td>change</td>\n",
       "      <td>10000</td>\n",
       "      <td>2</td>\n",
       "      <td>No</td>\n",
       "      <td>5724</td>\n",
       "      <td>NaN</td>\n",
       "      <td>NaN</td>\n",
       "      <td>NaN</td>\n",
       "      <td>NaN</td>\n",
       "      <td>NaN</td>\n",
       "      <td>NaN</td>\n",
       "      <td>NaN</td>\n",
       "      <td>2</td>\n",
       "      <td>Categorical</td>\n",
       "      <td>0</td>\n",
       "    </tr>\n",
       "    <tr>\n",
       "      <th>47</th>\n",
       "      <td>diabetesMed</td>\n",
       "      <td>10000</td>\n",
       "      <td>2</td>\n",
       "      <td>Yes</td>\n",
       "      <td>7478</td>\n",
       "      <td>NaN</td>\n",
       "      <td>NaN</td>\n",
       "      <td>NaN</td>\n",
       "      <td>NaN</td>\n",
       "      <td>NaN</td>\n",
       "      <td>NaN</td>\n",
       "      <td>NaN</td>\n",
       "      <td>2</td>\n",
       "      <td>Categorical</td>\n",
       "      <td>0</td>\n",
       "    </tr>\n",
       "    <tr>\n",
       "      <th>48</th>\n",
       "      <td>readmitted</td>\n",
       "      <td>10000</td>\n",
       "      <td>2</td>\n",
       "      <td>False</td>\n",
       "      <td>6035</td>\n",
       "      <td>NaN</td>\n",
       "      <td>NaN</td>\n",
       "      <td>NaN</td>\n",
       "      <td>NaN</td>\n",
       "      <td>NaN</td>\n",
       "      <td>NaN</td>\n",
       "      <td>NaN</td>\n",
       "      <td>2</td>\n",
       "      <td>Categorical</td>\n",
       "      <td>0</td>\n",
       "    </tr>\n",
       "    <tr>\n",
       "      <th>49</th>\n",
       "      <td>diag_1_desc</td>\n",
       "      <td>9998</td>\n",
       "      <td>457</td>\n",
       "      <td>Coronary atherosclerosis of unspecified type o...</td>\n",
       "      <td>735</td>\n",
       "      <td>NaN</td>\n",
       "      <td>NaN</td>\n",
       "      <td>NaN</td>\n",
       "      <td>NaN</td>\n",
       "      <td>NaN</td>\n",
       "      <td>NaN</td>\n",
       "      <td>NaN</td>\n",
       "      <td>457</td>\n",
       "      <td>Categorical</td>\n",
       "      <td>2</td>\n",
       "    </tr>\n",
       "    <tr>\n",
       "      <th>50</th>\n",
       "      <td>diag_2_desc</td>\n",
       "      <td>9941</td>\n",
       "      <td>429</td>\n",
       "      <td>Diabetes mellitus without mention of complicat...</td>\n",
       "      <td>684</td>\n",
       "      <td>NaN</td>\n",
       "      <td>NaN</td>\n",
       "      <td>NaN</td>\n",
       "      <td>NaN</td>\n",
       "      <td>NaN</td>\n",
       "      <td>NaN</td>\n",
       "      <td>NaN</td>\n",
       "      <td>429</td>\n",
       "      <td>Categorical</td>\n",
       "      <td>59</td>\n",
       "    </tr>\n",
       "    <tr>\n",
       "      <th>51</th>\n",
       "      <td>diag_3_desc</td>\n",
       "      <td>9792</td>\n",
       "      <td>460</td>\n",
       "      <td>Diabetes mellitus without mention of complicat...</td>\n",
       "      <td>1276</td>\n",
       "      <td>NaN</td>\n",
       "      <td>NaN</td>\n",
       "      <td>NaN</td>\n",
       "      <td>NaN</td>\n",
       "      <td>NaN</td>\n",
       "      <td>NaN</td>\n",
       "      <td>NaN</td>\n",
       "      <td>460</td>\n",
       "      <td>Categorical</td>\n",
       "      <td>208</td>\n",
       "    </tr>\n",
       "  </tbody>\n",
       "</table>\n",
       "</div>"
      ],
      "text/plain": [
       "                feature_name    count unique  \\\n",
       "0                      rowID  10000.0    NaN   \n",
       "1                       race    10000      6   \n",
       "2                     gender    10000      2   \n",
       "3                        age    10000     10   \n",
       "4                     weight    10000      8   \n",
       "5          admission_type_id     9279      6   \n",
       "6   discharge_disposition_id     9531     21   \n",
       "7        admission_source_id     9064     10   \n",
       "8           time_in_hospital  10000.0    NaN   \n",
       "9                 payer_code    10000     16   \n",
       "10         medical_specialty    10000     53   \n",
       "11        num_lab_procedures  10000.0    NaN   \n",
       "12            num_procedures  10000.0    NaN   \n",
       "13           num_medications  10000.0    NaN   \n",
       "14         number_outpatient  10000.0    NaN   \n",
       "15          number_emergency  10000.0    NaN   \n",
       "16          number_inpatient  10000.0    NaN   \n",
       "17                    diag_1    10000    458   \n",
       "18                    diag_2    10000    430   \n",
       "19                    diag_3    10000    461   \n",
       "20          number_diagnoses  10000.0    NaN   \n",
       "21             max_glu_serum    10000      4   \n",
       "22                 A1Cresult    10000      4   \n",
       "23                 metformin    10000      4   \n",
       "24               repaglinide    10000      4   \n",
       "25               nateglinide    10000      4   \n",
       "26            chlorpropamide    10000      3   \n",
       "27               glimepiride    10000      4   \n",
       "28             acetohexamide    10000      1   \n",
       "29                 glipizide    10000      4   \n",
       "30                 glyburide    10000      4   \n",
       "31               tolbutamide    10000      2   \n",
       "32              pioglitazone    10000      4   \n",
       "33             rosiglitazone    10000      4   \n",
       "34                  acarbose    10000      3   \n",
       "35                  miglitol    10000      4   \n",
       "36              troglitazone    10000      1   \n",
       "37                tolazamide    10000      2   \n",
       "38                   examide    10000      1   \n",
       "39               citoglipton    10000      1   \n",
       "40                   insulin    10000      4   \n",
       "41       glyburide.metformin    10000      4   \n",
       "42       glipizide.metformin    10000      2   \n",
       "43  glimepiride.pioglitazone    10000      1   \n",
       "44   metformin.rosiglitazone    10000      1   \n",
       "45    metformin.pioglitazone    10000      1   \n",
       "46                    change    10000      2   \n",
       "47               diabetesMed    10000      2   \n",
       "48                readmitted    10000      2   \n",
       "49               diag_1_desc     9998    457   \n",
       "50               diag_2_desc     9941    429   \n",
       "51               diag_3_desc     9792    460   \n",
       "\n",
       "                                                  top   freq     mean  \\\n",
       "0                                                 NaN    NaN   5000.5   \n",
       "1                                           Caucasian   7359      NaN   \n",
       "2                                              Female   5398      NaN   \n",
       "3                                             [70-80)   2595      NaN   \n",
       "4                                                   ?   9592      NaN   \n",
       "5                                           Emergency   4905      NaN   \n",
       "6                                  Discharged to home   6056      NaN   \n",
       "7                                      Emergency Room   4940      NaN   \n",
       "8                                                 NaN    NaN   4.4347   \n",
       "9                                                   ?   5341      NaN   \n",
       "10                                                  ?   4100      NaN   \n",
       "11                                                NaN    NaN  43.0786   \n",
       "12                                                NaN    NaN   1.3992   \n",
       "13                                                NaN    NaN  15.5638   \n",
       "14                                                NaN    NaN   0.2817   \n",
       "15                                                NaN    NaN    0.115   \n",
       "16                                                NaN    NaN   0.3873   \n",
       "17                                                414    735      NaN   \n",
       "18                                                250    684      NaN   \n",
       "19                                                250   1276      NaN   \n",
       "20                                                NaN    NaN   7.0253   \n",
       "21                                               None   9336      NaN   \n",
       "22                                               None   8379      NaN   \n",
       "23                                                 No   8011      NaN   \n",
       "24                                                 No   9870      NaN   \n",
       "25                                                 No   9949      NaN   \n",
       "26                                                 No   9987      NaN   \n",
       "27                                                 No   9509      NaN   \n",
       "28                                                 No  10000      NaN   \n",
       "29                                                 No   8696      NaN   \n",
       "30                                                 No   8814      NaN   \n",
       "31                                                 No   9997      NaN   \n",
       "32                                                 No   9294      NaN   \n",
       "33                                                 No   9239      NaN   \n",
       "34                                                 No   9968      NaN   \n",
       "35                                                 No   9995      NaN   \n",
       "36                                                 No  10000      NaN   \n",
       "37                                                 No   9996      NaN   \n",
       "38                                                 No  10000      NaN   \n",
       "39                                                 No  10000      NaN   \n",
       "40                                                 No   5159      NaN   \n",
       "41                                                 No   9944      NaN   \n",
       "42                                                 No   9998      NaN   \n",
       "43                                                 No  10000      NaN   \n",
       "44                                                 No  10000      NaN   \n",
       "45                                                 No  10000      NaN   \n",
       "46                                                 No   5724      NaN   \n",
       "47                                                Yes   7478      NaN   \n",
       "48                                              False   6035      NaN   \n",
       "49  Coronary atherosclerosis of unspecified type o...    735      NaN   \n",
       "50  Diabetes mellitus without mention of complicat...    684      NaN   \n",
       "51  Diabetes mellitus without mention of complicat...   1276      NaN   \n",
       "\n",
       "           std  min      25%     50%      75%      max  num_unique  \\\n",
       "0   2886.89568  1.0  2500.75  5000.5  7500.25  10000.0       10000   \n",
       "1          NaN  NaN      NaN     NaN      NaN      NaN           6   \n",
       "2          NaN  NaN      NaN     NaN      NaN      NaN           2   \n",
       "3          NaN  NaN      NaN     NaN      NaN      NaN          10   \n",
       "4          NaN  NaN      NaN     NaN      NaN      NaN           8   \n",
       "5          NaN  NaN      NaN     NaN      NaN      NaN           6   \n",
       "6          NaN  NaN      NaN     NaN      NaN      NaN          21   \n",
       "7          NaN  NaN      NaN     NaN      NaN      NaN          10   \n",
       "8     3.021597  1.0      2.0     4.0      6.0     14.0          14   \n",
       "9          NaN  NaN      NaN     NaN      NaN      NaN          16   \n",
       "10         NaN  NaN      NaN     NaN      NaN      NaN          53   \n",
       "11   19.453315  1.0     32.0    44.0     57.0    120.0         108   \n",
       "12    1.706438  0.0      0.0     1.0      2.0      6.0           7   \n",
       "13    8.391613  1.0     10.0    14.0     19.0     81.0          68   \n",
       "14    1.119406  0.0      0.0     0.0      0.0     36.0          23   \n",
       "15    0.649475  0.0      0.0     0.0      0.0     42.0          12   \n",
       "16    0.854267  0.0      0.0     0.0      0.0     10.0          11   \n",
       "17         NaN  NaN      NaN     NaN      NaN      NaN         458   \n",
       "18         NaN  NaN      NaN     NaN      NaN      NaN         430   \n",
       "19         NaN  NaN      NaN     NaN      NaN      NaN         461   \n",
       "20    2.020957  1.0      5.0     7.0      9.0      9.0           9   \n",
       "21         NaN  NaN      NaN     NaN      NaN      NaN           4   \n",
       "22         NaN  NaN      NaN     NaN      NaN      NaN           4   \n",
       "23         NaN  NaN      NaN     NaN      NaN      NaN           4   \n",
       "24         NaN  NaN      NaN     NaN      NaN      NaN           4   \n",
       "25         NaN  NaN      NaN     NaN      NaN      NaN           4   \n",
       "26         NaN  NaN      NaN     NaN      NaN      NaN           3   \n",
       "27         NaN  NaN      NaN     NaN      NaN      NaN           4   \n",
       "28         NaN  NaN      NaN     NaN      NaN      NaN           1   \n",
       "29         NaN  NaN      NaN     NaN      NaN      NaN           4   \n",
       "30         NaN  NaN      NaN     NaN      NaN      NaN           4   \n",
       "31         NaN  NaN      NaN     NaN      NaN      NaN           2   \n",
       "32         NaN  NaN      NaN     NaN      NaN      NaN           4   \n",
       "33         NaN  NaN      NaN     NaN      NaN      NaN           4   \n",
       "34         NaN  NaN      NaN     NaN      NaN      NaN           3   \n",
       "35         NaN  NaN      NaN     NaN      NaN      NaN           4   \n",
       "36         NaN  NaN      NaN     NaN      NaN      NaN           1   \n",
       "37         NaN  NaN      NaN     NaN      NaN      NaN           2   \n",
       "38         NaN  NaN      NaN     NaN      NaN      NaN           1   \n",
       "39         NaN  NaN      NaN     NaN      NaN      NaN           1   \n",
       "40         NaN  NaN      NaN     NaN      NaN      NaN           4   \n",
       "41         NaN  NaN      NaN     NaN      NaN      NaN           4   \n",
       "42         NaN  NaN      NaN     NaN      NaN      NaN           2   \n",
       "43         NaN  NaN      NaN     NaN      NaN      NaN           1   \n",
       "44         NaN  NaN      NaN     NaN      NaN      NaN           1   \n",
       "45         NaN  NaN      NaN     NaN      NaN      NaN           1   \n",
       "46         NaN  NaN      NaN     NaN      NaN      NaN           2   \n",
       "47         NaN  NaN      NaN     NaN      NaN      NaN           2   \n",
       "48         NaN  NaN      NaN     NaN      NaN      NaN           2   \n",
       "49         NaN  NaN      NaN     NaN      NaN      NaN         457   \n",
       "50         NaN  NaN      NaN     NaN      NaN      NaN         429   \n",
       "51         NaN  NaN      NaN     NaN      NaN      NaN         460   \n",
       "\n",
       "   feature_type  missing_count  \n",
       "0       Numeric              0  \n",
       "1   Categorical              0  \n",
       "2   Categorical              0  \n",
       "3   Categorical              0  \n",
       "4   Categorical              0  \n",
       "5   Categorical            721  \n",
       "6   Categorical            469  \n",
       "7   Categorical            936  \n",
       "8                            0  \n",
       "9   Categorical              0  \n",
       "10  Categorical              0  \n",
       "11      Numeric              0  \n",
       "12                           0  \n",
       "13                           0  \n",
       "14                           0  \n",
       "15                           0  \n",
       "16                           0  \n",
       "17  Categorical              0  \n",
       "18  Categorical              0  \n",
       "19  Categorical              0  \n",
       "20                           0  \n",
       "21  Categorical              0  \n",
       "22  Categorical              0  \n",
       "23  Categorical              0  \n",
       "24  Categorical              0  \n",
       "25  Categorical              0  \n",
       "26  Categorical              0  \n",
       "27  Categorical              0  \n",
       "28  Categorical              0  \n",
       "29  Categorical              0  \n",
       "30  Categorical              0  \n",
       "31  Categorical              0  \n",
       "32  Categorical              0  \n",
       "33  Categorical              0  \n",
       "34  Categorical              0  \n",
       "35  Categorical              0  \n",
       "36  Categorical              0  \n",
       "37  Categorical              0  \n",
       "38  Categorical              0  \n",
       "39  Categorical              0  \n",
       "40  Categorical              0  \n",
       "41  Categorical              0  \n",
       "42  Categorical              0  \n",
       "43  Categorical              0  \n",
       "44  Categorical              0  \n",
       "45  Categorical              0  \n",
       "46  Categorical              0  \n",
       "47  Categorical              0  \n",
       "48  Categorical              0  \n",
       "49  Categorical              2  \n",
       "50  Categorical             59  \n",
       "51  Categorical            208  "
      ]
     },
     "execution_count": 8,
     "metadata": {},
     "output_type": "execute_result"
    }
   ],
   "source": [
    "input_info=automl_utils.create_feature_metadata(input_data)\n",
    "input_info"
   ]
  },
  {
   "cell_type": "code",
   "execution_count": 9,
   "metadata": {},
   "outputs": [
    {
     "data": {
      "text/html": [
       "<div>\n",
       "<style scoped>\n",
       "    .dataframe tbody tr th:only-of-type {\n",
       "        vertical-align: middle;\n",
       "    }\n",
       "\n",
       "    .dataframe tbody tr th {\n",
       "        vertical-align: top;\n",
       "    }\n",
       "\n",
       "    .dataframe thead th {\n",
       "        text-align: right;\n",
       "    }\n",
       "</style>\n",
       "<table border=\"1\" class=\"dataframe\">\n",
       "  <thead>\n",
       "    <tr style=\"text-align: right;\">\n",
       "      <th></th>\n",
       "      <th>count</th>\n",
       "      <th>mean</th>\n",
       "      <th>std</th>\n",
       "      <th>min</th>\n",
       "      <th>25%</th>\n",
       "      <th>50%</th>\n",
       "      <th>75%</th>\n",
       "      <th>max</th>\n",
       "    </tr>\n",
       "  </thead>\n",
       "  <tbody>\n",
       "    <tr>\n",
       "      <th>rowID</th>\n",
       "      <td>10000.0</td>\n",
       "      <td>5000.5000</td>\n",
       "      <td>2886.895680</td>\n",
       "      <td>1.0</td>\n",
       "      <td>2500.75</td>\n",
       "      <td>5000.5</td>\n",
       "      <td>7500.25</td>\n",
       "      <td>10000.0</td>\n",
       "    </tr>\n",
       "    <tr>\n",
       "      <th>time_in_hospital</th>\n",
       "      <td>10000.0</td>\n",
       "      <td>4.4347</td>\n",
       "      <td>3.021597</td>\n",
       "      <td>1.0</td>\n",
       "      <td>2.00</td>\n",
       "      <td>4.0</td>\n",
       "      <td>6.00</td>\n",
       "      <td>14.0</td>\n",
       "    </tr>\n",
       "    <tr>\n",
       "      <th>num_lab_procedures</th>\n",
       "      <td>10000.0</td>\n",
       "      <td>43.0786</td>\n",
       "      <td>19.453315</td>\n",
       "      <td>1.0</td>\n",
       "      <td>32.00</td>\n",
       "      <td>44.0</td>\n",
       "      <td>57.00</td>\n",
       "      <td>120.0</td>\n",
       "    </tr>\n",
       "    <tr>\n",
       "      <th>num_procedures</th>\n",
       "      <td>10000.0</td>\n",
       "      <td>1.3992</td>\n",
       "      <td>1.706438</td>\n",
       "      <td>0.0</td>\n",
       "      <td>0.00</td>\n",
       "      <td>1.0</td>\n",
       "      <td>2.00</td>\n",
       "      <td>6.0</td>\n",
       "    </tr>\n",
       "    <tr>\n",
       "      <th>num_medications</th>\n",
       "      <td>10000.0</td>\n",
       "      <td>15.5638</td>\n",
       "      <td>8.391613</td>\n",
       "      <td>1.0</td>\n",
       "      <td>10.00</td>\n",
       "      <td>14.0</td>\n",
       "      <td>19.00</td>\n",
       "      <td>81.0</td>\n",
       "    </tr>\n",
       "    <tr>\n",
       "      <th>number_outpatient</th>\n",
       "      <td>10000.0</td>\n",
       "      <td>0.2817</td>\n",
       "      <td>1.119406</td>\n",
       "      <td>0.0</td>\n",
       "      <td>0.00</td>\n",
       "      <td>0.0</td>\n",
       "      <td>0.00</td>\n",
       "      <td>36.0</td>\n",
       "    </tr>\n",
       "    <tr>\n",
       "      <th>number_emergency</th>\n",
       "      <td>10000.0</td>\n",
       "      <td>0.1150</td>\n",
       "      <td>0.649475</td>\n",
       "      <td>0.0</td>\n",
       "      <td>0.00</td>\n",
       "      <td>0.0</td>\n",
       "      <td>0.00</td>\n",
       "      <td>42.0</td>\n",
       "    </tr>\n",
       "    <tr>\n",
       "      <th>number_inpatient</th>\n",
       "      <td>10000.0</td>\n",
       "      <td>0.3873</td>\n",
       "      <td>0.854267</td>\n",
       "      <td>0.0</td>\n",
       "      <td>0.00</td>\n",
       "      <td>0.0</td>\n",
       "      <td>0.00</td>\n",
       "      <td>10.0</td>\n",
       "    </tr>\n",
       "    <tr>\n",
       "      <th>number_diagnoses</th>\n",
       "      <td>10000.0</td>\n",
       "      <td>7.0253</td>\n",
       "      <td>2.020957</td>\n",
       "      <td>1.0</td>\n",
       "      <td>5.00</td>\n",
       "      <td>7.0</td>\n",
       "      <td>9.00</td>\n",
       "      <td>9.0</td>\n",
       "    </tr>\n",
       "  </tbody>\n",
       "</table>\n",
       "</div>"
      ],
      "text/plain": [
       "                      count       mean          std  min      25%     50%  \\\n",
       "rowID               10000.0  5000.5000  2886.895680  1.0  2500.75  5000.5   \n",
       "time_in_hospital    10000.0     4.4347     3.021597  1.0     2.00     4.0   \n",
       "num_lab_procedures  10000.0    43.0786    19.453315  1.0    32.00    44.0   \n",
       "num_procedures      10000.0     1.3992     1.706438  0.0     0.00     1.0   \n",
       "num_medications     10000.0    15.5638     8.391613  1.0    10.00    14.0   \n",
       "number_outpatient   10000.0     0.2817     1.119406  0.0     0.00     0.0   \n",
       "number_emergency    10000.0     0.1150     0.649475  0.0     0.00     0.0   \n",
       "number_inpatient    10000.0     0.3873     0.854267  0.0     0.00     0.0   \n",
       "number_diagnoses    10000.0     7.0253     2.020957  1.0     5.00     7.0   \n",
       "\n",
       "                        75%      max  \n",
       "rowID               7500.25  10000.0  \n",
       "time_in_hospital       6.00     14.0  \n",
       "num_lab_procedures    57.00    120.0  \n",
       "num_procedures         2.00      6.0  \n",
       "num_medications       19.00     81.0  \n",
       "number_outpatient      0.00     36.0  \n",
       "number_emergency       0.00     42.0  \n",
       "number_inpatient       0.00     10.0  \n",
       "number_diagnoses       9.00      9.0  "
      ]
     },
     "execution_count": 9,
     "metadata": {},
     "output_type": "execute_result"
    }
   ],
   "source": [
    "input_data.describe().T"
   ]
  },
  {
   "cell_type": "code",
   "execution_count": 10,
   "metadata": {},
   "outputs": [
    {
     "data": {
      "text/plain": [
       "['diag_1_desc',\n",
       " 'discharge_disposition_id',\n",
       " 'admission_source_id',\n",
       " 'diag_3_desc',\n",
       " 'diag_2_desc',\n",
       " 'age',\n",
       " 'admission_type_id',\n",
       " 'medical_specialty']"
      ]
     },
     "execution_count": 10,
     "metadata": {},
     "output_type": "execute_result"
    }
   ],
   "source": [
    "target='readmitted'\n",
    "feature_list=['number_inpatient','num_medications','time_in_hospital','num_procedures','number_outpatient','number_emergency',\n",
    "              'discharge_disposition_id','medical_specialty',\"number_diagnoses\",\"num_lab_procedures\",\"admission_source_id\",\n",
    "              'age', 'diag_1_desc','diag_2_desc',\"diag_3_desc\",'admission_type_id']#'diag_1',\"diag_2\",\"diag_3\"\n",
    "num_features=['number_inpatient', 'number_diagnoses','num_lab_procedures','num_medications','time_in_hospital','num_procedures','number_outpatient','number_emergency']\n",
    "text_features=list(set(feature_list)^set(num_features))\n",
    "text_features"
   ]
  },
  {
   "cell_type": "code",
   "execution_count": 11,
   "metadata": {},
   "outputs": [
    {
     "data": {
      "text/plain": [
       "'1.0.1'"
      ]
     },
     "execution_count": 11,
     "metadata": {},
     "output_type": "execute_result"
    }
   ],
   "source": [
    "sklearn.__version__\n",
    "# from keras.wrappers.scikit_learn import KerasRegressor"
   ]
  },
  {
   "cell_type": "code",
   "execution_count": 12,
   "metadata": {},
   "outputs": [],
   "source": [
    "X=input_data[feature_list]\n",
    "y=input_data[target].astype(int)"
   ]
  },
  {
   "cell_type": "markdown",
   "metadata": {},
   "source": [
    "###  3) Define partitioning method and CV method"
   ]
  },
  {
   "cell_type": "code",
   "execution_count": 13,
   "metadata": {},
   "outputs": [],
   "source": [
    "X_train, X_test, y_train, y_test = train_test_split(X, y, test_size=0.8, random_state=1234)"
   ]
  },
  {
   "cell_type": "code",
   "execution_count": 14,
   "metadata": {},
   "outputs": [
    {
     "data": {
      "text/plain": [
       "array([0, 1, 2, 3, 4])"
      ]
     },
     "execution_count": 14,
     "metadata": {},
     "output_type": "execute_result"
    }
   ],
   "source": [
    "#split the data into 5 time cross validation folds\n",
    "ps = PredefinedSplit(test_fold=np.floor(5*np.arange(len(X_train))/len(X_train)))\n",
    "ps.unique_folds"
   ]
  },
  {
   "cell_type": "markdown",
   "metadata": {},
   "source": [
    "###  4) Run Competition"
   ]
  },
  {
   "cell_type": "code",
   "execution_count": 15,
   "metadata": {},
   "outputs": [],
   "source": [
    "# gbm_model = gbm_classifier_pipeline(X_train,y_train,num_features,text_features,cv=ps,verbose=1)"
   ]
  },
  {
   "cell_type": "code",
   "execution_count": 16,
   "metadata": {},
   "outputs": [],
   "source": [
    "# rf_model = rf_classifier_pipeline(X_train,y_train,num_features,text_features,cv=ps,verbose=1)"
   ]
  },
  {
   "cell_type": "code",
   "execution_count": 17,
   "metadata": {},
   "outputs": [
    {
     "name": "stdout",
     "output_type": "stream",
     "text": [
      "diag_1_desc\n",
      "discharge_disposition_id\n",
      "admission_source_id\n",
      "diag_3_desc\n",
      "diag_2_desc\n",
      "age\n",
      "admission_type_id\n",
      "medical_specialty\n",
      "Fitting 5 folds for each of 4 candidates, totalling 20 fits\n"
     ]
    },
    {
     "name": "stderr",
     "output_type": "stream",
     "text": [
      "C:\\Users\\burd8\\anaconda3\\envs\\py39_tf\\lib\\site-packages\\sklearn\\linear_model\\_sag.py:352: ConvergenceWarning: The max_iter was reached which means the coef_ did not converge\n",
      "  warnings.warn(\n"
     ]
    },
    {
     "name": "stdout",
     "output_type": "stream",
     "text": [
      "[Pipeline] ..... (step 1 of 2) Processing Preprocessing, total=   5.8s\n",
      "[Pipeline] ............... (step 2 of 2) Processing gbm, total=   0.2s\n",
      "[Pipeline] ..... (step 1 of 2) Processing Preprocessing, total=   6.4s\n",
      "[Pipeline] ............... (step 2 of 2) Processing gbm, total=   0.2s\n"
     ]
    },
    {
     "name": "stderr",
     "output_type": "stream",
     "text": [
      "C:\\Users\\burd8\\anaconda3\\envs\\py39_tf\\lib\\site-packages\\sklearn\\linear_model\\_sag.py:352: ConvergenceWarning: The max_iter was reached which means the coef_ did not converge\n",
      "  warnings.warn(\n"
     ]
    },
    {
     "name": "stdout",
     "output_type": "stream",
     "text": [
      "[Pipeline] ..... (step 1 of 2) Processing Preprocessing, total=   6.1s\n",
      "[Pipeline] ............... (step 2 of 2) Processing gbm, total=   0.2s\n",
      "[Pipeline] ..... (step 1 of 2) Processing Preprocessing, total=   5.2s\n",
      "[Pipeline] ............... (step 2 of 2) Processing gbm, total=   0.2s\n"
     ]
    },
    {
     "name": "stderr",
     "output_type": "stream",
     "text": [
      "C:\\Users\\burd8\\anaconda3\\envs\\py39_tf\\lib\\site-packages\\sklearn\\linear_model\\_sag.py:352: ConvergenceWarning: The max_iter was reached which means the coef_ did not converge\n",
      "  warnings.warn(\n",
      "C:\\Users\\burd8\\anaconda3\\envs\\py39_tf\\lib\\site-packages\\sklearn\\linear_model\\_sag.py:352: ConvergenceWarning: The max_iter was reached which means the coef_ did not converge\n",
      "  warnings.warn(\n"
     ]
    },
    {
     "name": "stdout",
     "output_type": "stream",
     "text": [
      "[Pipeline] ..... (step 1 of 2) Processing Preprocessing, total=   6.7s\n",
      "[Pipeline] ............... (step 2 of 2) Processing gbm, total=   0.2s\n"
     ]
    },
    {
     "name": "stderr",
     "output_type": "stream",
     "text": [
      "C:\\Users\\burd8\\anaconda3\\envs\\py39_tf\\lib\\site-packages\\sklearn\\linear_model\\_sag.py:352: ConvergenceWarning: The max_iter was reached which means the coef_ did not converge\n",
      "  warnings.warn(\n"
     ]
    },
    {
     "name": "stdout",
     "output_type": "stream",
     "text": [
      "[Pipeline] ..... (step 1 of 2) Processing Preprocessing, total=   6.0s\n",
      "[Pipeline] ............... (step 2 of 2) Processing gbm, total=   0.4s\n"
     ]
    },
    {
     "name": "stderr",
     "output_type": "stream",
     "text": [
      "C:\\Users\\burd8\\anaconda3\\envs\\py39_tf\\lib\\site-packages\\sklearn\\linear_model\\_sag.py:352: ConvergenceWarning: The max_iter was reached which means the coef_ did not converge\n",
      "  warnings.warn(\n"
     ]
    },
    {
     "name": "stdout",
     "output_type": "stream",
     "text": [
      "[Pipeline] ..... (step 1 of 2) Processing Preprocessing, total=   6.2s\n",
      "[Pipeline] ............... (step 2 of 2) Processing gbm, total=   0.4s\n"
     ]
    },
    {
     "name": "stderr",
     "output_type": "stream",
     "text": [
      "C:\\Users\\burd8\\anaconda3\\envs\\py39_tf\\lib\\site-packages\\sklearn\\linear_model\\_sag.py:352: ConvergenceWarning: The max_iter was reached which means the coef_ did not converge\n",
      "  warnings.warn(\n"
     ]
    },
    {
     "name": "stdout",
     "output_type": "stream",
     "text": [
      "[Pipeline] ..... (step 1 of 2) Processing Preprocessing, total=   6.1s\n",
      "[Pipeline] ............... (step 2 of 2) Processing gbm, total=   0.4s\n",
      "[Pipeline] ..... (step 1 of 2) Processing Preprocessing, total=   5.2s\n",
      "[Pipeline] ............... (step 2 of 2) Processing gbm, total=   0.4s\n"
     ]
    },
    {
     "name": "stderr",
     "output_type": "stream",
     "text": [
      "C:\\Users\\burd8\\anaconda3\\envs\\py39_tf\\lib\\site-packages\\sklearn\\linear_model\\_sag.py:352: ConvergenceWarning: The max_iter was reached which means the coef_ did not converge\n",
      "  warnings.warn(\n",
      "C:\\Users\\burd8\\anaconda3\\envs\\py39_tf\\lib\\site-packages\\sklearn\\linear_model\\_sag.py:352: ConvergenceWarning: The max_iter was reached which means the coef_ did not converge\n",
      "  warnings.warn(\n"
     ]
    },
    {
     "name": "stdout",
     "output_type": "stream",
     "text": [
      "[Pipeline] ..... (step 1 of 2) Processing Preprocessing, total=   6.8s\n",
      "[Pipeline] ............... (step 2 of 2) Processing gbm, total=   0.4s\n"
     ]
    },
    {
     "name": "stderr",
     "output_type": "stream",
     "text": [
      "C:\\Users\\burd8\\anaconda3\\envs\\py39_tf\\lib\\site-packages\\sklearn\\linear_model\\_sag.py:352: ConvergenceWarning: The max_iter was reached which means the coef_ did not converge\n",
      "  warnings.warn(\n"
     ]
    },
    {
     "name": "stdout",
     "output_type": "stream",
     "text": [
      "[Pipeline] ..... (step 1 of 2) Processing Preprocessing, total=   6.1s\n",
      "[Pipeline] ............... (step 2 of 2) Processing gbm, total=   0.4s\n",
      "[Pipeline] ..... (step 1 of 2) Processing Preprocessing, total=   6.3s\n",
      "[Pipeline] ............... (step 2 of 2) Processing gbm, total=   0.4s\n"
     ]
    },
    {
     "name": "stderr",
     "output_type": "stream",
     "text": [
      "C:\\Users\\burd8\\anaconda3\\envs\\py39_tf\\lib\\site-packages\\sklearn\\linear_model\\_sag.py:352: ConvergenceWarning: The max_iter was reached which means the coef_ did not converge\n",
      "  warnings.warn(\n"
     ]
    },
    {
     "name": "stdout",
     "output_type": "stream",
     "text": [
      "[Pipeline] ..... (step 1 of 2) Processing Preprocessing, total=   6.1s\n",
      "[Pipeline] ............... (step 2 of 2) Processing gbm, total=   0.4s\n",
      "[Pipeline] ..... (step 1 of 2) Processing Preprocessing, total=   5.3s\n",
      "[Pipeline] ............... (step 2 of 2) Processing gbm, total=   0.4s\n"
     ]
    },
    {
     "name": "stderr",
     "output_type": "stream",
     "text": [
      "C:\\Users\\burd8\\anaconda3\\envs\\py39_tf\\lib\\site-packages\\sklearn\\linear_model\\_sag.py:352: ConvergenceWarning: The max_iter was reached which means the coef_ did not converge\n",
      "  warnings.warn(\n"
     ]
    },
    {
     "name": "stdout",
     "output_type": "stream",
     "text": [
      "[Pipeline] ..... (step 1 of 2) Processing Preprocessing, total=   6.2s\n",
      "[Pipeline] ............... (step 2 of 2) Processing gbm, total=   0.4s\n"
     ]
    },
    {
     "name": "stderr",
     "output_type": "stream",
     "text": [
      "C:\\Users\\burd8\\anaconda3\\envs\\py39_tf\\lib\\site-packages\\sklearn\\linear_model\\_sag.py:352: ConvergenceWarning: The max_iter was reached which means the coef_ did not converge\n",
      "  warnings.warn(\n"
     ]
    },
    {
     "name": "stdout",
     "output_type": "stream",
     "text": [
      "[Pipeline] ..... (step 1 of 2) Processing Preprocessing, total=   5.9s\n",
      "[Pipeline] ............... (step 2 of 2) Processing gbm, total=   0.7s\n"
     ]
    },
    {
     "name": "stderr",
     "output_type": "stream",
     "text": [
      "C:\\Users\\burd8\\anaconda3\\envs\\py39_tf\\lib\\site-packages\\sklearn\\linear_model\\_sag.py:352: ConvergenceWarning: The max_iter was reached which means the coef_ did not converge\n",
      "  warnings.warn(\n"
     ]
    },
    {
     "name": "stdout",
     "output_type": "stream",
     "text": [
      "[Pipeline] ..... (step 1 of 2) Processing Preprocessing, total=   6.2s\n",
      "[Pipeline] ............... (step 2 of 2) Processing gbm, total=   0.7s\n"
     ]
    },
    {
     "name": "stderr",
     "output_type": "stream",
     "text": [
      "C:\\Users\\burd8\\anaconda3\\envs\\py39_tf\\lib\\site-packages\\sklearn\\linear_model\\_sag.py:352: ConvergenceWarning: The max_iter was reached which means the coef_ did not converge\n",
      "  warnings.warn(\n"
     ]
    },
    {
     "name": "stdout",
     "output_type": "stream",
     "text": [
      "[Pipeline] ..... (step 1 of 2) Processing Preprocessing, total=   6.2s\n",
      "[Pipeline] ............... (step 2 of 2) Processing gbm, total=   0.7s\n",
      "[Pipeline] ..... (step 1 of 2) Processing Preprocessing, total=   5.1s\n",
      "[Pipeline] ............... (step 2 of 2) Processing gbm, total=   0.7s\n"
     ]
    },
    {
     "name": "stderr",
     "output_type": "stream",
     "text": [
      "C:\\Users\\burd8\\anaconda3\\envs\\py39_tf\\lib\\site-packages\\sklearn\\linear_model\\_sag.py:352: ConvergenceWarning: The max_iter was reached which means the coef_ did not converge\n",
      "  warnings.warn(\n",
      "C:\\Users\\burd8\\anaconda3\\envs\\py39_tf\\lib\\site-packages\\sklearn\\linear_model\\_sag.py:352: ConvergenceWarning: The max_iter was reached which means the coef_ did not converge\n",
      "  warnings.warn(\n"
     ]
    },
    {
     "name": "stdout",
     "output_type": "stream",
     "text": [
      "[Pipeline] ..... (step 1 of 2) Processing Preprocessing, total=   6.7s\n",
      "[Pipeline] ............... (step 2 of 2) Processing gbm, total=   0.7s\n",
      "[Pipeline] ..... (step 1 of 2) Processing Preprocessing, total=   8.6s\n",
      "[Pipeline] ............... (step 2 of 2) Processing gbm, total=   0.3s\n",
      "Best parameter (CV score=-0.632):\n",
      "{'gbm__max_depth': 3, 'gbm__n_estimators': 100}\n",
      "Fitting 5 folds for each of 12 candidates, totalling 60 fits\n"
     ]
    },
    {
     "name": "stderr",
     "output_type": "stream",
     "text": [
      "C:\\Users\\burd8\\anaconda3\\envs\\py39_tf\\lib\\site-packages\\sklearn\\linear_model\\_sag.py:352: ConvergenceWarning: The max_iter was reached which means the coef_ did not converge\n",
      "  warnings.warn(\n"
     ]
    },
    {
     "name": "stdout",
     "output_type": "stream",
     "text": [
      "[Pipeline] ..... (step 1 of 2) Processing Preprocessing, total=   5.9s\n",
      "[Pipeline] ................ (step 2 of 2) Processing rf, total=   0.1s\n",
      "[Pipeline] ..... (step 1 of 2) Processing Preprocessing, total=   6.2s\n",
      "[Pipeline] ................ (step 2 of 2) Processing rf, total=   0.1s\n"
     ]
    },
    {
     "name": "stderr",
     "output_type": "stream",
     "text": [
      "C:\\Users\\burd8\\anaconda3\\envs\\py39_tf\\lib\\site-packages\\sklearn\\linear_model\\_sag.py:352: ConvergenceWarning: The max_iter was reached which means the coef_ did not converge\n",
      "  warnings.warn(\n"
     ]
    },
    {
     "name": "stdout",
     "output_type": "stream",
     "text": [
      "[Pipeline] ..... (step 1 of 2) Processing Preprocessing, total=   6.1s\n",
      "[Pipeline] ................ (step 2 of 2) Processing rf, total=   0.1s\n",
      "[Pipeline] ..... (step 1 of 2) Processing Preprocessing, total=   5.1s\n",
      "[Pipeline] ................ (step 2 of 2) Processing rf, total=   0.1s\n"
     ]
    },
    {
     "name": "stderr",
     "output_type": "stream",
     "text": [
      "C:\\Users\\burd8\\anaconda3\\envs\\py39_tf\\lib\\site-packages\\sklearn\\linear_model\\_sag.py:352: ConvergenceWarning: The max_iter was reached which means the coef_ did not converge\n",
      "  warnings.warn(\n"
     ]
    },
    {
     "name": "stdout",
     "output_type": "stream",
     "text": [
      "[Pipeline] ..... (step 1 of 2) Processing Preprocessing, total=   6.6s\n",
      "[Pipeline] ................ (step 2 of 2) Processing rf, total=   0.1s\n"
     ]
    },
    {
     "name": "stderr",
     "output_type": "stream",
     "text": [
      "C:\\Users\\burd8\\anaconda3\\envs\\py39_tf\\lib\\site-packages\\sklearn\\linear_model\\_sag.py:352: ConvergenceWarning: The max_iter was reached which means the coef_ did not converge\n",
      "  warnings.warn(\n"
     ]
    },
    {
     "name": "stdout",
     "output_type": "stream",
     "text": [
      "[Pipeline] ..... (step 1 of 2) Processing Preprocessing, total=   6.0s\n",
      "[Pipeline] ................ (step 2 of 2) Processing rf, total=   0.2s\n"
     ]
    },
    {
     "name": "stderr",
     "output_type": "stream",
     "text": [
      "C:\\Users\\burd8\\anaconda3\\envs\\py39_tf\\lib\\site-packages\\sklearn\\linear_model\\_sag.py:352: ConvergenceWarning: The max_iter was reached which means the coef_ did not converge\n",
      "  warnings.warn(\n"
     ]
    },
    {
     "name": "stdout",
     "output_type": "stream",
     "text": [
      "[Pipeline] ..... (step 1 of 2) Processing Preprocessing, total=   6.1s\n",
      "[Pipeline] ................ (step 2 of 2) Processing rf, total=   0.2s\n"
     ]
    },
    {
     "name": "stderr",
     "output_type": "stream",
     "text": [
      "C:\\Users\\burd8\\anaconda3\\envs\\py39_tf\\lib\\site-packages\\sklearn\\linear_model\\_sag.py:352: ConvergenceWarning: The max_iter was reached which means the coef_ did not converge\n",
      "  warnings.warn(\n"
     ]
    },
    {
     "name": "stdout",
     "output_type": "stream",
     "text": [
      "[Pipeline] ..... (step 1 of 2) Processing Preprocessing, total=   6.2s\n",
      "[Pipeline] ................ (step 2 of 2) Processing rf, total=   0.2s\n",
      "[Pipeline] ..... (step 1 of 2) Processing Preprocessing, total=   5.1s\n",
      "[Pipeline] ................ (step 2 of 2) Processing rf, total=   0.2s\n"
     ]
    },
    {
     "name": "stderr",
     "output_type": "stream",
     "text": [
      "C:\\Users\\burd8\\anaconda3\\envs\\py39_tf\\lib\\site-packages\\sklearn\\linear_model\\_sag.py:352: ConvergenceWarning: The max_iter was reached which means the coef_ did not converge\n",
      "  warnings.warn(\n"
     ]
    },
    {
     "name": "stdout",
     "output_type": "stream",
     "text": [
      "[Pipeline] ..... (step 1 of 2) Processing Preprocessing, total=   6.3s\n",
      "[Pipeline] ................ (step 2 of 2) Processing rf, total=   0.2s\n"
     ]
    },
    {
     "name": "stderr",
     "output_type": "stream",
     "text": [
      "C:\\Users\\burd8\\anaconda3\\envs\\py39_tf\\lib\\site-packages\\sklearn\\linear_model\\_sag.py:352: ConvergenceWarning: The max_iter was reached which means the coef_ did not converge\n",
      "  warnings.warn(\n"
     ]
    },
    {
     "name": "stdout",
     "output_type": "stream",
     "text": [
      "[Pipeline] ..... (step 1 of 2) Processing Preprocessing, total=   6.0s\n",
      "[Pipeline] ................ (step 2 of 2) Processing rf, total=   0.3s\n"
     ]
    },
    {
     "name": "stderr",
     "output_type": "stream",
     "text": [
      "C:\\Users\\burd8\\anaconda3\\envs\\py39_tf\\lib\\site-packages\\sklearn\\linear_model\\_sag.py:352: ConvergenceWarning: The max_iter was reached which means the coef_ did not converge\n",
      "  warnings.warn(\n"
     ]
    },
    {
     "name": "stdout",
     "output_type": "stream",
     "text": [
      "[Pipeline] ..... (step 1 of 2) Processing Preprocessing, total=   6.3s\n",
      "[Pipeline] ................ (step 2 of 2) Processing rf, total=   0.3s\n"
     ]
    },
    {
     "name": "stderr",
     "output_type": "stream",
     "text": [
      "C:\\Users\\burd8\\anaconda3\\envs\\py39_tf\\lib\\site-packages\\sklearn\\linear_model\\_sag.py:352: ConvergenceWarning: The max_iter was reached which means the coef_ did not converge\n",
      "  warnings.warn(\n"
     ]
    },
    {
     "name": "stdout",
     "output_type": "stream",
     "text": [
      "[Pipeline] ..... (step 1 of 2) Processing Preprocessing, total=   6.3s\n",
      "[Pipeline] ................ (step 2 of 2) Processing rf, total=   0.3s\n",
      "[Pipeline] ..... (step 1 of 2) Processing Preprocessing, total=   5.2s\n",
      "[Pipeline] ................ (step 2 of 2) Processing rf, total=   0.3s\n"
     ]
    },
    {
     "name": "stderr",
     "output_type": "stream",
     "text": [
      "C:\\Users\\burd8\\anaconda3\\envs\\py39_tf\\lib\\site-packages\\sklearn\\linear_model\\_sag.py:352: ConvergenceWarning: The max_iter was reached which means the coef_ did not converge\n",
      "  warnings.warn(\n",
      "C:\\Users\\burd8\\anaconda3\\envs\\py39_tf\\lib\\site-packages\\sklearn\\linear_model\\_sag.py:352: ConvergenceWarning: The max_iter was reached which means the coef_ did not converge\n",
      "  warnings.warn(\n"
     ]
    },
    {
     "name": "stdout",
     "output_type": "stream",
     "text": [
      "[Pipeline] ..... (step 1 of 2) Processing Preprocessing, total=   6.6s\n",
      "[Pipeline] ................ (step 2 of 2) Processing rf, total=   0.3s\n"
     ]
    },
    {
     "name": "stderr",
     "output_type": "stream",
     "text": [
      "C:\\Users\\burd8\\anaconda3\\envs\\py39_tf\\lib\\site-packages\\sklearn\\linear_model\\_sag.py:352: ConvergenceWarning: The max_iter was reached which means the coef_ did not converge\n",
      "  warnings.warn(\n"
     ]
    },
    {
     "name": "stdout",
     "output_type": "stream",
     "text": [
      "[Pipeline] ..... (step 1 of 2) Processing Preprocessing, total=   5.9s\n",
      "[Pipeline] ................ (step 2 of 2) Processing rf, total=   0.1s\n"
     ]
    },
    {
     "name": "stderr",
     "output_type": "stream",
     "text": [
      "C:\\Users\\burd8\\anaconda3\\envs\\py39_tf\\lib\\site-packages\\sklearn\\linear_model\\_sag.py:352: ConvergenceWarning: The max_iter was reached which means the coef_ did not converge\n",
      "  warnings.warn(\n",
      "C:\\Users\\burd8\\anaconda3\\envs\\py39_tf\\lib\\site-packages\\sklearn\\linear_model\\_sag.py:352: ConvergenceWarning: The max_iter was reached which means the coef_ did not converge\n",
      "  warnings.warn(\n"
     ]
    },
    {
     "name": "stdout",
     "output_type": "stream",
     "text": [
      "[Pipeline] ..... (step 1 of 2) Processing Preprocessing, total=   6.5s\n",
      "[Pipeline] ................ (step 2 of 2) Processing rf, total=   0.1s\n"
     ]
    },
    {
     "name": "stderr",
     "output_type": "stream",
     "text": [
      "C:\\Users\\burd8\\anaconda3\\envs\\py39_tf\\lib\\site-packages\\sklearn\\linear_model\\_sag.py:352: ConvergenceWarning: The max_iter was reached which means the coef_ did not converge\n",
      "  warnings.warn(\n"
     ]
    },
    {
     "name": "stdout",
     "output_type": "stream",
     "text": [
      "[Pipeline] ..... (step 1 of 2) Processing Preprocessing, total=   6.2s\n",
      "[Pipeline] ................ (step 2 of 2) Processing rf, total=   0.1s\n"
     ]
    },
    {
     "name": "stderr",
     "output_type": "stream",
     "text": [
      "C:\\Users\\burd8\\anaconda3\\envs\\py39_tf\\lib\\site-packages\\sklearn\\linear_model\\_sag.py:352: ConvergenceWarning: The max_iter was reached which means the coef_ did not converge\n",
      "  warnings.warn(\n"
     ]
    },
    {
     "name": "stdout",
     "output_type": "stream",
     "text": [
      "[Pipeline] ..... (step 1 of 2) Processing Preprocessing, total=   5.2s\n",
      "[Pipeline] ................ (step 2 of 2) Processing rf, total=   0.1s\n"
     ]
    },
    {
     "name": "stderr",
     "output_type": "stream",
     "text": [
      "C:\\Users\\burd8\\anaconda3\\envs\\py39_tf\\lib\\site-packages\\sklearn\\linear_model\\_sag.py:352: ConvergenceWarning: The max_iter was reached which means the coef_ did not converge\n",
      "  warnings.warn(\n"
     ]
    },
    {
     "name": "stdout",
     "output_type": "stream",
     "text": [
      "[Pipeline] ..... (step 1 of 2) Processing Preprocessing, total=   6.7s\n",
      "[Pipeline] ................ (step 2 of 2) Processing rf, total=   0.1s\n"
     ]
    },
    {
     "name": "stderr",
     "output_type": "stream",
     "text": [
      "C:\\Users\\burd8\\anaconda3\\envs\\py39_tf\\lib\\site-packages\\sklearn\\linear_model\\_sag.py:352: ConvergenceWarning: The max_iter was reached which means the coef_ did not converge\n",
      "  warnings.warn(\n"
     ]
    },
    {
     "name": "stdout",
     "output_type": "stream",
     "text": [
      "[Pipeline] ..... (step 1 of 2) Processing Preprocessing, total=   6.1s\n",
      "[Pipeline] ................ (step 2 of 2) Processing rf, total=   0.2s\n"
     ]
    },
    {
     "name": "stderr",
     "output_type": "stream",
     "text": [
      "C:\\Users\\burd8\\anaconda3\\envs\\py39_tf\\lib\\site-packages\\sklearn\\linear_model\\_sag.py:352: ConvergenceWarning: The max_iter was reached which means the coef_ did not converge\n",
      "  warnings.warn(\n"
     ]
    },
    {
     "name": "stdout",
     "output_type": "stream",
     "text": [
      "[Pipeline] ..... (step 1 of 2) Processing Preprocessing, total=   6.2s\n",
      "[Pipeline] ................ (step 2 of 2) Processing rf, total=   0.2s\n"
     ]
    },
    {
     "name": "stderr",
     "output_type": "stream",
     "text": [
      "C:\\Users\\burd8\\anaconda3\\envs\\py39_tf\\lib\\site-packages\\sklearn\\linear_model\\_sag.py:352: ConvergenceWarning: The max_iter was reached which means the coef_ did not converge\n",
      "  warnings.warn(\n"
     ]
    },
    {
     "name": "stdout",
     "output_type": "stream",
     "text": [
      "[Pipeline] ..... (step 1 of 2) Processing Preprocessing, total=   6.2s\n",
      "[Pipeline] ................ (step 2 of 2) Processing rf, total=   0.2s\n",
      "[Pipeline] ..... (step 1 of 2) Processing Preprocessing, total=   5.2s\n",
      "[Pipeline] ................ (step 2 of 2) Processing rf, total=   0.2s\n"
     ]
    },
    {
     "name": "stderr",
     "output_type": "stream",
     "text": [
      "C:\\Users\\burd8\\anaconda3\\envs\\py39_tf\\lib\\site-packages\\sklearn\\linear_model\\_sag.py:352: ConvergenceWarning: The max_iter was reached which means the coef_ did not converge\n",
      "  warnings.warn(\n"
     ]
    },
    {
     "name": "stdout",
     "output_type": "stream",
     "text": [
      "[Pipeline] ..... (step 1 of 2) Processing Preprocessing, total=   6.2s\n",
      "[Pipeline] ................ (step 2 of 2) Processing rf, total=   0.2s\n"
     ]
    },
    {
     "name": "stderr",
     "output_type": "stream",
     "text": [
      "C:\\Users\\burd8\\anaconda3\\envs\\py39_tf\\lib\\site-packages\\sklearn\\linear_model\\_sag.py:352: ConvergenceWarning: The max_iter was reached which means the coef_ did not converge\n",
      "  warnings.warn(\n"
     ]
    },
    {
     "name": "stdout",
     "output_type": "stream",
     "text": [
      "[Pipeline] ..... (step 1 of 2) Processing Preprocessing, total=   6.0s\n",
      "[Pipeline] ................ (step 2 of 2) Processing rf, total=   0.3s\n",
      "[Pipeline] ..... (step 1 of 2) Processing Preprocessing, total=   6.2s\n",
      "[Pipeline] ................ (step 2 of 2) Processing rf, total=   0.3s\n"
     ]
    },
    {
     "name": "stderr",
     "output_type": "stream",
     "text": [
      "C:\\Users\\burd8\\anaconda3\\envs\\py39_tf\\lib\\site-packages\\sklearn\\linear_model\\_sag.py:352: ConvergenceWarning: The max_iter was reached which means the coef_ did not converge\n",
      "  warnings.warn(\n"
     ]
    },
    {
     "name": "stdout",
     "output_type": "stream",
     "text": [
      "[Pipeline] ..... (step 1 of 2) Processing Preprocessing, total=   6.2s\n",
      "[Pipeline] ................ (step 2 of 2) Processing rf, total=   0.3s\n",
      "[Pipeline] ..... (step 1 of 2) Processing Preprocessing, total=   5.2s\n",
      "[Pipeline] ................ (step 2 of 2) Processing rf, total=   0.3s\n"
     ]
    },
    {
     "name": "stderr",
     "output_type": "stream",
     "text": [
      "C:\\Users\\burd8\\anaconda3\\envs\\py39_tf\\lib\\site-packages\\sklearn\\linear_model\\_sag.py:352: ConvergenceWarning: The max_iter was reached which means the coef_ did not converge\n",
      "  warnings.warn(\n"
     ]
    },
    {
     "name": "stdout",
     "output_type": "stream",
     "text": [
      "[Pipeline] ..... (step 1 of 2) Processing Preprocessing, total=   6.6s\n",
      "[Pipeline] ................ (step 2 of 2) Processing rf, total=   0.3s\n"
     ]
    },
    {
     "name": "stderr",
     "output_type": "stream",
     "text": [
      "C:\\Users\\burd8\\anaconda3\\envs\\py39_tf\\lib\\site-packages\\sklearn\\linear_model\\_sag.py:352: ConvergenceWarning: The max_iter was reached which means the coef_ did not converge\n",
      "  warnings.warn(\n"
     ]
    },
    {
     "name": "stdout",
     "output_type": "stream",
     "text": [
      "[Pipeline] ..... (step 1 of 2) Processing Preprocessing, total=   5.9s\n",
      "[Pipeline] ................ (step 2 of 2) Processing rf, total=   0.1s\n"
     ]
    },
    {
     "name": "stderr",
     "output_type": "stream",
     "text": [
      "C:\\Users\\burd8\\anaconda3\\envs\\py39_tf\\lib\\site-packages\\sklearn\\linear_model\\_sag.py:352: ConvergenceWarning: The max_iter was reached which means the coef_ did not converge\n",
      "  warnings.warn(\n"
     ]
    },
    {
     "name": "stdout",
     "output_type": "stream",
     "text": [
      "[Pipeline] ..... (step 1 of 2) Processing Preprocessing, total=   6.2s\n",
      "[Pipeline] ................ (step 2 of 2) Processing rf, total=   0.1s\n"
     ]
    },
    {
     "name": "stderr",
     "output_type": "stream",
     "text": [
      "C:\\Users\\burd8\\anaconda3\\envs\\py39_tf\\lib\\site-packages\\sklearn\\linear_model\\_sag.py:352: ConvergenceWarning: The max_iter was reached which means the coef_ did not converge\n",
      "  warnings.warn(\n"
     ]
    },
    {
     "name": "stdout",
     "output_type": "stream",
     "text": [
      "[Pipeline] ..... (step 1 of 2) Processing Preprocessing, total=   6.1s\n",
      "[Pipeline] ................ (step 2 of 2) Processing rf, total=   0.1s\n",
      "[Pipeline] ..... (step 1 of 2) Processing Preprocessing, total=   5.0s\n",
      "[Pipeline] ................ (step 2 of 2) Processing rf, total=   0.1s\n"
     ]
    },
    {
     "name": "stderr",
     "output_type": "stream",
     "text": [
      "C:\\Users\\burd8\\anaconda3\\envs\\py39_tf\\lib\\site-packages\\sklearn\\linear_model\\_sag.py:352: ConvergenceWarning: The max_iter was reached which means the coef_ did not converge\n",
      "  warnings.warn(\n",
      "C:\\Users\\burd8\\anaconda3\\envs\\py39_tf\\lib\\site-packages\\sklearn\\linear_model\\_sag.py:352: ConvergenceWarning: The max_iter was reached which means the coef_ did not converge\n",
      "  warnings.warn(\n"
     ]
    },
    {
     "name": "stdout",
     "output_type": "stream",
     "text": [
      "[Pipeline] ..... (step 1 of 2) Processing Preprocessing, total=   6.8s\n",
      "[Pipeline] ................ (step 2 of 2) Processing rf, total=   0.1s\n"
     ]
    },
    {
     "name": "stderr",
     "output_type": "stream",
     "text": [
      "C:\\Users\\burd8\\anaconda3\\envs\\py39_tf\\lib\\site-packages\\sklearn\\linear_model\\_sag.py:352: ConvergenceWarning: The max_iter was reached which means the coef_ did not converge\n",
      "  warnings.warn(\n"
     ]
    },
    {
     "name": "stdout",
     "output_type": "stream",
     "text": [
      "[Pipeline] ..... (step 1 of 2) Processing Preprocessing, total=   5.9s\n",
      "[Pipeline] ................ (step 2 of 2) Processing rf, total=   0.2s\n"
     ]
    },
    {
     "name": "stderr",
     "output_type": "stream",
     "text": [
      "C:\\Users\\burd8\\anaconda3\\envs\\py39_tf\\lib\\site-packages\\sklearn\\linear_model\\_sag.py:352: ConvergenceWarning: The max_iter was reached which means the coef_ did not converge\n",
      "  warnings.warn(\n"
     ]
    },
    {
     "name": "stdout",
     "output_type": "stream",
     "text": [
      "[Pipeline] ..... (step 1 of 2) Processing Preprocessing, total=   6.3s\n",
      "[Pipeline] ................ (step 2 of 2) Processing rf, total=   0.2s\n"
     ]
    },
    {
     "name": "stderr",
     "output_type": "stream",
     "text": [
      "C:\\Users\\burd8\\anaconda3\\envs\\py39_tf\\lib\\site-packages\\sklearn\\linear_model\\_sag.py:352: ConvergenceWarning: The max_iter was reached which means the coef_ did not converge\n",
      "  warnings.warn(\n"
     ]
    },
    {
     "name": "stdout",
     "output_type": "stream",
     "text": [
      "[Pipeline] ..... (step 1 of 2) Processing Preprocessing, total=   6.2s\n",
      "[Pipeline] ................ (step 2 of 2) Processing rf, total=   0.2s\n",
      "[Pipeline] ..... (step 1 of 2) Processing Preprocessing, total=   5.2s\n",
      "[Pipeline] ................ (step 2 of 2) Processing rf, total=   0.2s\n"
     ]
    },
    {
     "name": "stderr",
     "output_type": "stream",
     "text": [
      "C:\\Users\\burd8\\anaconda3\\envs\\py39_tf\\lib\\site-packages\\sklearn\\linear_model\\_sag.py:352: ConvergenceWarning: The max_iter was reached which means the coef_ did not converge\n",
      "  warnings.warn(\n",
      "C:\\Users\\burd8\\anaconda3\\envs\\py39_tf\\lib\\site-packages\\sklearn\\linear_model\\_sag.py:352: ConvergenceWarning: The max_iter was reached which means the coef_ did not converge\n",
      "  warnings.warn(\n"
     ]
    },
    {
     "name": "stdout",
     "output_type": "stream",
     "text": [
      "[Pipeline] ..... (step 1 of 2) Processing Preprocessing, total=   6.7s\n",
      "[Pipeline] ................ (step 2 of 2) Processing rf, total=   0.2s\n"
     ]
    },
    {
     "name": "stderr",
     "output_type": "stream",
     "text": [
      "C:\\Users\\burd8\\anaconda3\\envs\\py39_tf\\lib\\site-packages\\sklearn\\linear_model\\_sag.py:352: ConvergenceWarning: The max_iter was reached which means the coef_ did not converge\n",
      "  warnings.warn(\n"
     ]
    },
    {
     "name": "stdout",
     "output_type": "stream",
     "text": [
      "[Pipeline] ..... (step 1 of 2) Processing Preprocessing, total=   6.0s\n",
      "[Pipeline] ................ (step 2 of 2) Processing rf, total=   0.4s\n"
     ]
    },
    {
     "name": "stderr",
     "output_type": "stream",
     "text": [
      "C:\\Users\\burd8\\anaconda3\\envs\\py39_tf\\lib\\site-packages\\sklearn\\linear_model\\_sag.py:352: ConvergenceWarning: The max_iter was reached which means the coef_ did not converge\n",
      "  warnings.warn(\n"
     ]
    },
    {
     "name": "stdout",
     "output_type": "stream",
     "text": [
      "[Pipeline] ..... (step 1 of 2) Processing Preprocessing, total=   6.3s\n",
      "[Pipeline] ................ (step 2 of 2) Processing rf, total=   0.3s\n"
     ]
    },
    {
     "name": "stderr",
     "output_type": "stream",
     "text": [
      "C:\\Users\\burd8\\anaconda3\\envs\\py39_tf\\lib\\site-packages\\sklearn\\linear_model\\_sag.py:352: ConvergenceWarning: The max_iter was reached which means the coef_ did not converge\n",
      "  warnings.warn(\n"
     ]
    },
    {
     "name": "stdout",
     "output_type": "stream",
     "text": [
      "[Pipeline] ..... (step 1 of 2) Processing Preprocessing, total=   6.1s\n",
      "[Pipeline] ................ (step 2 of 2) Processing rf, total=   0.3s\n",
      "[Pipeline] ..... (step 1 of 2) Processing Preprocessing, total=   5.3s\n",
      "[Pipeline] ................ (step 2 of 2) Processing rf, total=   0.4s\n"
     ]
    },
    {
     "name": "stderr",
     "output_type": "stream",
     "text": [
      "C:\\Users\\burd8\\anaconda3\\envs\\py39_tf\\lib\\site-packages\\sklearn\\linear_model\\_sag.py:352: ConvergenceWarning: The max_iter was reached which means the coef_ did not converge\n",
      "  warnings.warn(\n"
     ]
    },
    {
     "name": "stdout",
     "output_type": "stream",
     "text": [
      "[Pipeline] ..... (step 1 of 2) Processing Preprocessing, total=   6.6s\n",
      "[Pipeline] ................ (step 2 of 2) Processing rf, total=   0.4s\n"
     ]
    },
    {
     "name": "stderr",
     "output_type": "stream",
     "text": [
      "C:\\Users\\burd8\\anaconda3\\envs\\py39_tf\\lib\\site-packages\\sklearn\\linear_model\\_sag.py:352: ConvergenceWarning: The max_iter was reached which means the coef_ did not converge\n",
      "  warnings.warn(\n"
     ]
    },
    {
     "name": "stdout",
     "output_type": "stream",
     "text": [
      "[Pipeline] ..... (step 1 of 2) Processing Preprocessing, total=   5.8s\n",
      "[Pipeline] ................ (step 2 of 2) Processing rf, total=   0.1s\n",
      "[Pipeline] ..... (step 1 of 2) Processing Preprocessing, total=   6.1s\n",
      "[Pipeline] ................ (step 2 of 2) Processing rf, total=   0.1s\n"
     ]
    },
    {
     "name": "stderr",
     "output_type": "stream",
     "text": [
      "C:\\Users\\burd8\\anaconda3\\envs\\py39_tf\\lib\\site-packages\\sklearn\\linear_model\\_sag.py:352: ConvergenceWarning: The max_iter was reached which means the coef_ did not converge\n",
      "  warnings.warn(\n"
     ]
    },
    {
     "name": "stdout",
     "output_type": "stream",
     "text": [
      "[Pipeline] ..... (step 1 of 2) Processing Preprocessing, total=   6.2s\n",
      "[Pipeline] ................ (step 2 of 2) Processing rf, total=   0.1s\n",
      "[Pipeline] ..... (step 1 of 2) Processing Preprocessing, total=   5.2s\n",
      "[Pipeline] ................ (step 2 of 2) Processing rf, total=   0.1s\n"
     ]
    },
    {
     "name": "stderr",
     "output_type": "stream",
     "text": [
      "C:\\Users\\burd8\\anaconda3\\envs\\py39_tf\\lib\\site-packages\\sklearn\\linear_model\\_sag.py:352: ConvergenceWarning: The max_iter was reached which means the coef_ did not converge\n",
      "  warnings.warn(\n"
     ]
    },
    {
     "name": "stdout",
     "output_type": "stream",
     "text": [
      "[Pipeline] ..... (step 1 of 2) Processing Preprocessing, total=   6.3s\n",
      "[Pipeline] ................ (step 2 of 2) Processing rf, total=   0.1s\n"
     ]
    },
    {
     "name": "stderr",
     "output_type": "stream",
     "text": [
      "C:\\Users\\burd8\\anaconda3\\envs\\py39_tf\\lib\\site-packages\\sklearn\\linear_model\\_sag.py:352: ConvergenceWarning: The max_iter was reached which means the coef_ did not converge\n",
      "  warnings.warn(\n"
     ]
    },
    {
     "name": "stdout",
     "output_type": "stream",
     "text": [
      "[Pipeline] ..... (step 1 of 2) Processing Preprocessing, total=   6.1s\n",
      "[Pipeline] ................ (step 2 of 2) Processing rf, total=   0.3s\n"
     ]
    },
    {
     "name": "stderr",
     "output_type": "stream",
     "text": [
      "C:\\Users\\burd8\\anaconda3\\envs\\py39_tf\\lib\\site-packages\\sklearn\\linear_model\\_sag.py:352: ConvergenceWarning: The max_iter was reached which means the coef_ did not converge\n",
      "  warnings.warn(\n"
     ]
    },
    {
     "name": "stdout",
     "output_type": "stream",
     "text": [
      "[Pipeline] ..... (step 1 of 2) Processing Preprocessing, total=   6.2s\n",
      "[Pipeline] ................ (step 2 of 2) Processing rf, total=   0.3s\n"
     ]
    },
    {
     "name": "stderr",
     "output_type": "stream",
     "text": [
      "C:\\Users\\burd8\\anaconda3\\envs\\py39_tf\\lib\\site-packages\\sklearn\\linear_model\\_sag.py:352: ConvergenceWarning: The max_iter was reached which means the coef_ did not converge\n",
      "  warnings.warn(\n"
     ]
    },
    {
     "name": "stdout",
     "output_type": "stream",
     "text": [
      "[Pipeline] ..... (step 1 of 2) Processing Preprocessing, total=   6.1s\n",
      "[Pipeline] ................ (step 2 of 2) Processing rf, total=   0.3s\n",
      "[Pipeline] ..... (step 1 of 2) Processing Preprocessing, total=   5.1s\n",
      "[Pipeline] ................ (step 2 of 2) Processing rf, total=   0.3s\n"
     ]
    },
    {
     "name": "stderr",
     "output_type": "stream",
     "text": [
      "C:\\Users\\burd8\\anaconda3\\envs\\py39_tf\\lib\\site-packages\\sklearn\\linear_model\\_sag.py:352: ConvergenceWarning: The max_iter was reached which means the coef_ did not converge\n",
      "  warnings.warn(\n",
      "C:\\Users\\burd8\\anaconda3\\envs\\py39_tf\\lib\\site-packages\\sklearn\\linear_model\\_sag.py:352: ConvergenceWarning: The max_iter was reached which means the coef_ did not converge\n",
      "  warnings.warn(\n"
     ]
    },
    {
     "name": "stdout",
     "output_type": "stream",
     "text": [
      "[Pipeline] ..... (step 1 of 2) Processing Preprocessing, total=   6.7s\n",
      "[Pipeline] ................ (step 2 of 2) Processing rf, total=   0.3s\n"
     ]
    },
    {
     "name": "stderr",
     "output_type": "stream",
     "text": [
      "C:\\Users\\burd8\\anaconda3\\envs\\py39_tf\\lib\\site-packages\\sklearn\\linear_model\\_sag.py:352: ConvergenceWarning: The max_iter was reached which means the coef_ did not converge\n",
      "  warnings.warn(\n"
     ]
    },
    {
     "name": "stdout",
     "output_type": "stream",
     "text": [
      "[Pipeline] ..... (step 1 of 2) Processing Preprocessing, total=   6.1s\n",
      "[Pipeline] ................ (step 2 of 2) Processing rf, total=   0.4s\n"
     ]
    },
    {
     "name": "stderr",
     "output_type": "stream",
     "text": [
      "C:\\Users\\burd8\\anaconda3\\envs\\py39_tf\\lib\\site-packages\\sklearn\\linear_model\\_sag.py:352: ConvergenceWarning: The max_iter was reached which means the coef_ did not converge\n",
      "  warnings.warn(\n",
      "C:\\Users\\burd8\\anaconda3\\envs\\py39_tf\\lib\\site-packages\\sklearn\\linear_model\\_sag.py:352: ConvergenceWarning: The max_iter was reached which means the coef_ did not converge\n",
      "  warnings.warn(\n"
     ]
    },
    {
     "name": "stdout",
     "output_type": "stream",
     "text": [
      "[Pipeline] ..... (step 1 of 2) Processing Preprocessing, total=   6.3s\n",
      "[Pipeline] ................ (step 2 of 2) Processing rf, total=   0.4s\n"
     ]
    },
    {
     "name": "stderr",
     "output_type": "stream",
     "text": [
      "C:\\Users\\burd8\\anaconda3\\envs\\py39_tf\\lib\\site-packages\\sklearn\\linear_model\\_sag.py:352: ConvergenceWarning: The max_iter was reached which means the coef_ did not converge\n",
      "  warnings.warn(\n"
     ]
    },
    {
     "name": "stdout",
     "output_type": "stream",
     "text": [
      "[Pipeline] ..... (step 1 of 2) Processing Preprocessing, total=   6.1s\n",
      "[Pipeline] ................ (step 2 of 2) Processing rf, total=   0.4s\n",
      "[Pipeline] ..... (step 1 of 2) Processing Preprocessing, total=   5.2s\n",
      "[Pipeline] ................ (step 2 of 2) Processing rf, total=   0.4s\n"
     ]
    },
    {
     "name": "stderr",
     "output_type": "stream",
     "text": [
      "C:\\Users\\burd8\\anaconda3\\envs\\py39_tf\\lib\\site-packages\\sklearn\\linear_model\\_sag.py:352: ConvergenceWarning: The max_iter was reached which means the coef_ did not converge\n",
      "  warnings.warn(\n",
      "C:\\Users\\burd8\\anaconda3\\envs\\py39_tf\\lib\\site-packages\\sklearn\\linear_model\\_sag.py:352: ConvergenceWarning: The max_iter was reached which means the coef_ did not converge\n",
      "  warnings.warn(\n"
     ]
    },
    {
     "name": "stdout",
     "output_type": "stream",
     "text": [
      "[Pipeline] ..... (step 1 of 2) Processing Preprocessing, total=   6.7s\n",
      "[Pipeline] ................ (step 2 of 2) Processing rf, total=   0.4s\n",
      "[Pipeline] ..... (step 1 of 2) Processing Preprocessing, total=   8.5s\n",
      "[Pipeline] ................ (step 2 of 2) Processing rf, total=   0.4s\n",
      "Best parameter (CV score=-0.634):\n",
      "{'rf__max_leaf_nodes': 64, 'rf__n_estimators': 300}\n"
     ]
    }
   ],
   "source": [
    "tree_model_list = all_tree_classifier_pipeline(X_train,y_train,num_features,text_features,scoring='neg_log_loss',cv=ps,verbose=1)"
   ]
  },
  {
   "cell_type": "code",
   "execution_count": 18,
   "metadata": {},
   "outputs": [],
   "source": [
    "gbm_model=tree_model_list[0]\n",
    "rf_model=tree_model_list[1]"
   ]
  },
  {
   "cell_type": "code",
   "execution_count": 19,
   "metadata": {},
   "outputs": [
    {
     "data": {
      "text/plain": [
       "array(['number_inpatient', 'number_diagnoses', 'num_lab_procedures',\n",
       "       'num_medications', 'time_in_hospital', 'num_procedures',\n",
       "       'number_outpatient', 'number_emergency', 'diag_1_desc',\n",
       "       'discharge_disposition_id', 'admission_source_id', 'diag_3_desc',\n",
       "       'diag_2_desc', 'age', 'admission_type_id', 'medical_specialty'],\n",
       "      dtype=object)"
      ]
     },
     "execution_count": 19,
     "metadata": {},
     "output_type": "execute_result"
    }
   ],
   "source": [
    "rf_model.feature_names_in_"
   ]
  },
  {
   "cell_type": "code",
   "execution_count": 24,
   "metadata": {},
   "outputs": [],
   "source": [
    "best_model=gbm_model"
   ]
  },
  {
   "cell_type": "code",
   "execution_count": 25,
   "metadata": {},
   "outputs": [],
   "source": [
    "final_layer=best_model[-1]"
   ]
  },
  {
   "cell_type": "code",
   "execution_count": 26,
   "metadata": {},
   "outputs": [],
   "source": [
    "#get test set text predictions\n",
    "test_pred=best_model.predict_proba(X_test[list(best_model.feature_names_in_)])"
   ]
  },
  {
   "cell_type": "code",
   "execution_count": 27,
   "metadata": {},
   "outputs": [
    {
     "data": {
      "text/plain": [
       "0.6704439970383691"
      ]
     },
     "execution_count": 27,
     "metadata": {},
     "output_type": "execute_result"
    }
   ],
   "source": [
    "roc_auc_score(y_test,test_pred[:,1])"
   ]
  },
  {
   "cell_type": "code",
   "execution_count": 40,
   "metadata": {},
   "outputs": [
    {
     "data": {
      "text/plain": [
       "0.64925"
      ]
     },
     "execution_count": 40,
     "metadata": {},
     "output_type": "execute_result"
    }
   ],
   "source": [
    "accuracy_score(y_test,np.round(test_pred[:,1]))"
   ]
  },
  {
   "cell_type": "code",
   "execution_count": 41,
   "metadata": {},
   "outputs": [
    {
     "data": {
      "text/plain": [
       "0.6264990652423544"
      ]
     },
     "execution_count": 41,
     "metadata": {},
     "output_type": "execute_result"
    }
   ],
   "source": [
    "log_loss(y_test, test_pred[:,1])"
   ]
  },
  {
   "cell_type": "code",
   "execution_count": 42,
   "metadata": {},
   "outputs": [
    {
     "name": "stdout",
     "output_type": "stream",
     "text": [
      "MissingNumeric__number_inpatient: 0.11766388601853096\n",
      "MissingNumeric__number_diagnoses: 0.05651995466801387\n",
      "MissingNumeric__num_lab_procedures: 0.07958848827475952\n",
      "MissingNumeric__num_medications: 0.058886398535599155\n",
      "MissingNumeric__time_in_hospital: 0.03389843139842822\n",
      "MissingNumeric__num_procedures: 0.02524360817455378\n",
      "MissingNumeric__number_outpatient: 0.035270762533715826\n",
      "MissingNumeric__number_emergency: 0.01053680648917083\n",
      "TextStacking_#diag_1_desc__diag_1_desc: 0.09152523272573775\n",
      "TextStacking_#diag_3_desc__diag_3_desc: 0.07429542335215299\n",
      "TextStacking_#admission_source_id__admission_source_id: 0.0583298065011025\n",
      "TextStacking_#discharge_disposition_id__discharge_disposition_id: 0.08161282282238973\n",
      "TextStacking_#age__age: 0.05187644422617041\n",
      "TextStacking_#admission_type_id__admission_type_id: 0.05029022539131483\n",
      "TextStacking_#medical_specialty__medical_specialty: 0.07003866366694102\n",
      "TextStacking_#diag_2_desc__diag_2_desc: 0.10442304522141868\n"
     ]
    }
   ],
   "source": [
    "for c in range(len(final_layer.feature_importances_)):\n",
    "    print(best_model[-2].get_feature_names_out()[c]+\": \"+str(final_layer.feature_importances_[c]))"
   ]
  },
  {
   "cell_type": "markdown",
   "metadata": {},
   "source": [
    "###  5) Save best model as .pkl file"
   ]
  },
  {
   "cell_type": "code",
   "execution_count": 43,
   "metadata": {},
   "outputs": [
    {
     "data": {
      "text/plain": [
       "['pipeline.pkl']"
      ]
     },
     "execution_count": 43,
     "metadata": {},
     "output_type": "execute_result"
    }
   ],
   "source": [
    "# import sklearn.external.joblib as extjoblib\n",
    "import joblib\n",
    "\n",
    "joblib.dump(best_model, 'pipeline.pkl')"
   ]
  },
  {
   "cell_type": "code",
   "execution_count": null,
   "metadata": {},
   "outputs": [],
   "source": []
  }
 ],
 "metadata": {
  "kernelspec": {
   "display_name": "py39_tf",
   "language": "python",
   "name": "py39_tf"
  },
  "language_info": {
   "codemirror_mode": {
    "name": "ipython",
    "version": 3
   },
   "file_extension": ".py",
   "mimetype": "text/x-python",
   "name": "python",
   "nbconvert_exporter": "python",
   "pygments_lexer": "ipython3",
   "version": "3.9.7"
  }
 },
 "nbformat": 4,
 "nbformat_minor": 4
}
